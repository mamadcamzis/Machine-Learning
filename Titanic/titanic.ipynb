{
 "cells": [
  {
   "cell_type": "code",
   "execution_count": 1,
   "metadata": {
    "collapsed": true
   },
   "outputs": [],
   "source": [
    "import pandas as pd"
   ]
  },
  {
   "cell_type": "code",
   "execution_count": 2,
   "metadata": {
    "collapsed": true
   },
   "outputs": [],
   "source": [
    "train = pd.read_csv('data/train.csv', sep=',')"
   ]
  },
  {
   "cell_type": "code",
   "execution_count": 3,
   "metadata": {
    "scrolled": true
   },
   "outputs": [
    {
     "data": {
      "text/html": [
       "<div>\n",
       "<style>\n",
       "    .dataframe thead tr:only-child th {\n",
       "        text-align: right;\n",
       "    }\n",
       "\n",
       "    .dataframe thead th {\n",
       "        text-align: left;\n",
       "    }\n",
       "\n",
       "    .dataframe tbody tr th {\n",
       "        vertical-align: top;\n",
       "    }\n",
       "</style>\n",
       "<table border=\"1\" class=\"dataframe\">\n",
       "  <thead>\n",
       "    <tr style=\"text-align: right;\">\n",
       "      <th></th>\n",
       "      <th>PassengerId</th>\n",
       "      <th>Survived</th>\n",
       "      <th>Pclass</th>\n",
       "      <th>Name</th>\n",
       "      <th>Sex</th>\n",
       "      <th>Age</th>\n",
       "      <th>SibSp</th>\n",
       "      <th>Parch</th>\n",
       "      <th>Ticket</th>\n",
       "      <th>Fare</th>\n",
       "      <th>Cabin</th>\n",
       "      <th>Embarked</th>\n",
       "    </tr>\n",
       "  </thead>\n",
       "  <tbody>\n",
       "    <tr>\n",
       "      <th>0</th>\n",
       "      <td>1</td>\n",
       "      <td>0</td>\n",
       "      <td>3</td>\n",
       "      <td>Braund, Mr. Owen Harris</td>\n",
       "      <td>male</td>\n",
       "      <td>22.0</td>\n",
       "      <td>1</td>\n",
       "      <td>0</td>\n",
       "      <td>A/5 21171</td>\n",
       "      <td>7.2500</td>\n",
       "      <td>NaN</td>\n",
       "      <td>S</td>\n",
       "    </tr>\n",
       "    <tr>\n",
       "      <th>1</th>\n",
       "      <td>2</td>\n",
       "      <td>1</td>\n",
       "      <td>1</td>\n",
       "      <td>Cumings, Mrs. John Bradley (Florence Briggs Th...</td>\n",
       "      <td>female</td>\n",
       "      <td>38.0</td>\n",
       "      <td>1</td>\n",
       "      <td>0</td>\n",
       "      <td>PC 17599</td>\n",
       "      <td>71.2833</td>\n",
       "      <td>C85</td>\n",
       "      <td>C</td>\n",
       "    </tr>\n",
       "    <tr>\n",
       "      <th>2</th>\n",
       "      <td>3</td>\n",
       "      <td>1</td>\n",
       "      <td>3</td>\n",
       "      <td>Heikkinen, Miss. Laina</td>\n",
       "      <td>female</td>\n",
       "      <td>26.0</td>\n",
       "      <td>0</td>\n",
       "      <td>0</td>\n",
       "      <td>STON/O2. 3101282</td>\n",
       "      <td>7.9250</td>\n",
       "      <td>NaN</td>\n",
       "      <td>S</td>\n",
       "    </tr>\n",
       "    <tr>\n",
       "      <th>3</th>\n",
       "      <td>4</td>\n",
       "      <td>1</td>\n",
       "      <td>1</td>\n",
       "      <td>Futrelle, Mrs. Jacques Heath (Lily May Peel)</td>\n",
       "      <td>female</td>\n",
       "      <td>35.0</td>\n",
       "      <td>1</td>\n",
       "      <td>0</td>\n",
       "      <td>113803</td>\n",
       "      <td>53.1000</td>\n",
       "      <td>C123</td>\n",
       "      <td>S</td>\n",
       "    </tr>\n",
       "    <tr>\n",
       "      <th>4</th>\n",
       "      <td>5</td>\n",
       "      <td>0</td>\n",
       "      <td>3</td>\n",
       "      <td>Allen, Mr. William Henry</td>\n",
       "      <td>male</td>\n",
       "      <td>35.0</td>\n",
       "      <td>0</td>\n",
       "      <td>0</td>\n",
       "      <td>373450</td>\n",
       "      <td>8.0500</td>\n",
       "      <td>NaN</td>\n",
       "      <td>S</td>\n",
       "    </tr>\n",
       "    <tr>\n",
       "      <th>5</th>\n",
       "      <td>6</td>\n",
       "      <td>0</td>\n",
       "      <td>3</td>\n",
       "      <td>Moran, Mr. James</td>\n",
       "      <td>male</td>\n",
       "      <td>NaN</td>\n",
       "      <td>0</td>\n",
       "      <td>0</td>\n",
       "      <td>330877</td>\n",
       "      <td>8.4583</td>\n",
       "      <td>NaN</td>\n",
       "      <td>Q</td>\n",
       "    </tr>\n",
       "    <tr>\n",
       "      <th>6</th>\n",
       "      <td>7</td>\n",
       "      <td>0</td>\n",
       "      <td>1</td>\n",
       "      <td>McCarthy, Mr. Timothy J</td>\n",
       "      <td>male</td>\n",
       "      <td>54.0</td>\n",
       "      <td>0</td>\n",
       "      <td>0</td>\n",
       "      <td>17463</td>\n",
       "      <td>51.8625</td>\n",
       "      <td>E46</td>\n",
       "      <td>S</td>\n",
       "    </tr>\n",
       "    <tr>\n",
       "      <th>7</th>\n",
       "      <td>8</td>\n",
       "      <td>0</td>\n",
       "      <td>3</td>\n",
       "      <td>Palsson, Master. Gosta Leonard</td>\n",
       "      <td>male</td>\n",
       "      <td>2.0</td>\n",
       "      <td>3</td>\n",
       "      <td>1</td>\n",
       "      <td>349909</td>\n",
       "      <td>21.0750</td>\n",
       "      <td>NaN</td>\n",
       "      <td>S</td>\n",
       "    </tr>\n",
       "    <tr>\n",
       "      <th>8</th>\n",
       "      <td>9</td>\n",
       "      <td>1</td>\n",
       "      <td>3</td>\n",
       "      <td>Johnson, Mrs. Oscar W (Elisabeth Vilhelmina Berg)</td>\n",
       "      <td>female</td>\n",
       "      <td>27.0</td>\n",
       "      <td>0</td>\n",
       "      <td>2</td>\n",
       "      <td>347742</td>\n",
       "      <td>11.1333</td>\n",
       "      <td>NaN</td>\n",
       "      <td>S</td>\n",
       "    </tr>\n",
       "    <tr>\n",
       "      <th>9</th>\n",
       "      <td>10</td>\n",
       "      <td>1</td>\n",
       "      <td>2</td>\n",
       "      <td>Nasser, Mrs. Nicholas (Adele Achem)</td>\n",
       "      <td>female</td>\n",
       "      <td>14.0</td>\n",
       "      <td>1</td>\n",
       "      <td>0</td>\n",
       "      <td>237736</td>\n",
       "      <td>30.0708</td>\n",
       "      <td>NaN</td>\n",
       "      <td>C</td>\n",
       "    </tr>\n",
       "  </tbody>\n",
       "</table>\n",
       "</div>"
      ],
      "text/plain": [
       "   PassengerId  Survived  Pclass  \\\n",
       "0            1         0       3   \n",
       "1            2         1       1   \n",
       "2            3         1       3   \n",
       "3            4         1       1   \n",
       "4            5         0       3   \n",
       "5            6         0       3   \n",
       "6            7         0       1   \n",
       "7            8         0       3   \n",
       "8            9         1       3   \n",
       "9           10         1       2   \n",
       "\n",
       "                                                Name     Sex   Age  SibSp  \\\n",
       "0                            Braund, Mr. Owen Harris    male  22.0      1   \n",
       "1  Cumings, Mrs. John Bradley (Florence Briggs Th...  female  38.0      1   \n",
       "2                             Heikkinen, Miss. Laina  female  26.0      0   \n",
       "3       Futrelle, Mrs. Jacques Heath (Lily May Peel)  female  35.0      1   \n",
       "4                           Allen, Mr. William Henry    male  35.0      0   \n",
       "5                                   Moran, Mr. James    male   NaN      0   \n",
       "6                            McCarthy, Mr. Timothy J    male  54.0      0   \n",
       "7                     Palsson, Master. Gosta Leonard    male   2.0      3   \n",
       "8  Johnson, Mrs. Oscar W (Elisabeth Vilhelmina Berg)  female  27.0      0   \n",
       "9                Nasser, Mrs. Nicholas (Adele Achem)  female  14.0      1   \n",
       "\n",
       "   Parch            Ticket     Fare Cabin Embarked  \n",
       "0      0         A/5 21171   7.2500   NaN        S  \n",
       "1      0          PC 17599  71.2833   C85        C  \n",
       "2      0  STON/O2. 3101282   7.9250   NaN        S  \n",
       "3      0            113803  53.1000  C123        S  \n",
       "4      0            373450   8.0500   NaN        S  \n",
       "5      0            330877   8.4583   NaN        Q  \n",
       "6      0             17463  51.8625   E46        S  \n",
       "7      1            349909  21.0750   NaN        S  \n",
       "8      2            347742  11.1333   NaN        S  \n",
       "9      0            237736  30.0708   NaN        C  "
      ]
     },
     "execution_count": 3,
     "metadata": {},
     "output_type": "execute_result"
    }
   ],
   "source": [
    "train.head(10)"
   ]
  },
  {
   "cell_type": "code",
   "execution_count": 4,
   "metadata": {
    "collapsed": true
   },
   "outputs": [],
   "source": [
    "train.set_index('PassengerId', inplace=True, drop=True)"
   ]
  },
  {
   "cell_type": "code",
   "execution_count": 5,
   "metadata": {},
   "outputs": [
    {
     "data": {
      "text/plain": [
       "Survived      int64\n",
       "Pclass        int64\n",
       "Name         object\n",
       "Sex          object\n",
       "Age         float64\n",
       "SibSp         int64\n",
       "Parch         int64\n",
       "Ticket       object\n",
       "Fare        float64\n",
       "Cabin        object\n",
       "Embarked     object\n",
       "dtype: object"
      ]
     },
     "execution_count": 5,
     "metadata": {},
     "output_type": "execute_result"
    }
   ],
   "source": [
    "train.dtypes"
   ]
  },
  {
   "cell_type": "code",
   "execution_count": 6,
   "metadata": {},
   "outputs": [
    {
     "data": {
      "text/plain": [
       "<bound method DataFrame.count of              Survived  Pclass  \\\n",
       "PassengerId                     \n",
       "1                   0       3   \n",
       "2                   1       1   \n",
       "3                   1       3   \n",
       "4                   1       1   \n",
       "5                   0       3   \n",
       "6                   0       3   \n",
       "7                   0       1   \n",
       "8                   0       3   \n",
       "9                   1       3   \n",
       "10                  1       2   \n",
       "11                  1       3   \n",
       "12                  1       1   \n",
       "13                  0       3   \n",
       "14                  0       3   \n",
       "15                  0       3   \n",
       "16                  1       2   \n",
       "17                  0       3   \n",
       "18                  1       2   \n",
       "19                  0       3   \n",
       "20                  1       3   \n",
       "21                  0       2   \n",
       "22                  1       2   \n",
       "23                  1       3   \n",
       "24                  1       1   \n",
       "25                  0       3   \n",
       "26                  1       3   \n",
       "27                  0       3   \n",
       "28                  0       1   \n",
       "29                  1       3   \n",
       "30                  0       3   \n",
       "...               ...     ...   \n",
       "862                 0       2   \n",
       "863                 1       1   \n",
       "864                 0       3   \n",
       "865                 0       2   \n",
       "866                 1       2   \n",
       "867                 1       2   \n",
       "868                 0       1   \n",
       "869                 0       3   \n",
       "870                 1       3   \n",
       "871                 0       3   \n",
       "872                 1       1   \n",
       "873                 0       1   \n",
       "874                 0       3   \n",
       "875                 1       2   \n",
       "876                 1       3   \n",
       "877                 0       3   \n",
       "878                 0       3   \n",
       "879                 0       3   \n",
       "880                 1       1   \n",
       "881                 1       2   \n",
       "882                 0       3   \n",
       "883                 0       3   \n",
       "884                 0       2   \n",
       "885                 0       3   \n",
       "886                 0       3   \n",
       "887                 0       2   \n",
       "888                 1       1   \n",
       "889                 0       3   \n",
       "890                 1       1   \n",
       "891                 0       3   \n",
       "\n",
       "                                                          Name     Sex   Age  \\\n",
       "PassengerId                                                                    \n",
       "1                                      Braund, Mr. Owen Harris    male  22.0   \n",
       "2            Cumings, Mrs. John Bradley (Florence Briggs Th...  female  38.0   \n",
       "3                                       Heikkinen, Miss. Laina  female  26.0   \n",
       "4                 Futrelle, Mrs. Jacques Heath (Lily May Peel)  female  35.0   \n",
       "5                                     Allen, Mr. William Henry    male  35.0   \n",
       "6                                             Moran, Mr. James    male   NaN   \n",
       "7                                      McCarthy, Mr. Timothy J    male  54.0   \n",
       "8                               Palsson, Master. Gosta Leonard    male   2.0   \n",
       "9            Johnson, Mrs. Oscar W (Elisabeth Vilhelmina Berg)  female  27.0   \n",
       "10                         Nasser, Mrs. Nicholas (Adele Achem)  female  14.0   \n",
       "11                             Sandstrom, Miss. Marguerite Rut  female   4.0   \n",
       "12                                    Bonnell, Miss. Elizabeth  female  58.0   \n",
       "13                              Saundercock, Mr. William Henry    male  20.0   \n",
       "14                                 Andersson, Mr. Anders Johan    male  39.0   \n",
       "15                        Vestrom, Miss. Hulda Amanda Adolfina  female  14.0   \n",
       "16                            Hewlett, Mrs. (Mary D Kingcome)   female  55.0   \n",
       "17                                        Rice, Master. Eugene    male   2.0   \n",
       "18                                Williams, Mr. Charles Eugene    male   NaN   \n",
       "19           Vander Planke, Mrs. Julius (Emelia Maria Vande...  female  31.0   \n",
       "20                                     Masselmani, Mrs. Fatima  female   NaN   \n",
       "21                                        Fynney, Mr. Joseph J    male  35.0   \n",
       "22                                       Beesley, Mr. Lawrence    male  34.0   \n",
       "23                                 McGowan, Miss. Anna \"Annie\"  female  15.0   \n",
       "24                                Sloper, Mr. William Thompson    male  28.0   \n",
       "25                               Palsson, Miss. Torborg Danira  female   8.0   \n",
       "26           Asplund, Mrs. Carl Oscar (Selma Augusta Emilia...  female  38.0   \n",
       "27                                     Emir, Mr. Farred Chehab    male   NaN   \n",
       "28                              Fortune, Mr. Charles Alexander    male  19.0   \n",
       "29                               O'Dwyer, Miss. Ellen \"Nellie\"  female   NaN   \n",
       "30                                         Todoroff, Mr. Lalio    male   NaN   \n",
       "...                                                        ...     ...   ...   \n",
       "862                                Giles, Mr. Frederick Edward    male  21.0   \n",
       "863          Swift, Mrs. Frederick Joel (Margaret Welles Ba...  female  48.0   \n",
       "864                          Sage, Miss. Dorothy Edith \"Dolly\"  female   NaN   \n",
       "865                                     Gill, Mr. John William    male  24.0   \n",
       "866                                   Bystrom, Mrs. (Karolina)  female  42.0   \n",
       "867                               Duran y More, Miss. Asuncion  female  27.0   \n",
       "868                       Roebling, Mr. Washington Augustus II    male  31.0   \n",
       "869                                van Melkebeke, Mr. Philemon    male   NaN   \n",
       "870                            Johnson, Master. Harold Theodor    male   4.0   \n",
       "871                                          Balkic, Mr. Cerin    male  26.0   \n",
       "872           Beckwith, Mrs. Richard Leonard (Sallie Monypeny)  female  47.0   \n",
       "873                                   Carlsson, Mr. Frans Olof    male  33.0   \n",
       "874                                Vander Cruyssen, Mr. Victor    male  47.0   \n",
       "875                      Abelson, Mrs. Samuel (Hannah Wizosky)  female  28.0   \n",
       "876                           Najib, Miss. Adele Kiamie \"Jane\"  female  15.0   \n",
       "877                              Gustafsson, Mr. Alfred Ossian    male  20.0   \n",
       "878                                       Petroff, Mr. Nedelio    male  19.0   \n",
       "879                                         Laleff, Mr. Kristo    male   NaN   \n",
       "880              Potter, Mrs. Thomas Jr (Lily Alexenia Wilson)  female  56.0   \n",
       "881               Shelley, Mrs. William (Imanita Parrish Hall)  female  25.0   \n",
       "882                                         Markun, Mr. Johann    male  33.0   \n",
       "883                               Dahlberg, Miss. Gerda Ulrika  female  22.0   \n",
       "884                              Banfield, Mr. Frederick James    male  28.0   \n",
       "885                                     Sutehall, Mr. Henry Jr    male  25.0   \n",
       "886                       Rice, Mrs. William (Margaret Norton)  female  39.0   \n",
       "887                                      Montvila, Rev. Juozas    male  27.0   \n",
       "888                               Graham, Miss. Margaret Edith  female  19.0   \n",
       "889                   Johnston, Miss. Catherine Helen \"Carrie\"  female   NaN   \n",
       "890                                      Behr, Mr. Karl Howell    male  26.0   \n",
       "891                                        Dooley, Mr. Patrick    male  32.0   \n",
       "\n",
       "             SibSp  Parch            Ticket      Fare        Cabin Embarked  \n",
       "PassengerId                                                                  \n",
       "1                1      0         A/5 21171    7.2500          NaN        S  \n",
       "2                1      0          PC 17599   71.2833          C85        C  \n",
       "3                0      0  STON/O2. 3101282    7.9250          NaN        S  \n",
       "4                1      0            113803   53.1000         C123        S  \n",
       "5                0      0            373450    8.0500          NaN        S  \n",
       "6                0      0            330877    8.4583          NaN        Q  \n",
       "7                0      0             17463   51.8625          E46        S  \n",
       "8                3      1            349909   21.0750          NaN        S  \n",
       "9                0      2            347742   11.1333          NaN        S  \n",
       "10               1      0            237736   30.0708          NaN        C  \n",
       "11               1      1           PP 9549   16.7000           G6        S  \n",
       "12               0      0            113783   26.5500         C103        S  \n",
       "13               0      0         A/5. 2151    8.0500          NaN        S  \n",
       "14               1      5            347082   31.2750          NaN        S  \n",
       "15               0      0            350406    7.8542          NaN        S  \n",
       "16               0      0            248706   16.0000          NaN        S  \n",
       "17               4      1            382652   29.1250          NaN        Q  \n",
       "18               0      0            244373   13.0000          NaN        S  \n",
       "19               1      0            345763   18.0000          NaN        S  \n",
       "20               0      0              2649    7.2250          NaN        C  \n",
       "21               0      0            239865   26.0000          NaN        S  \n",
       "22               0      0            248698   13.0000          D56        S  \n",
       "23               0      0            330923    8.0292          NaN        Q  \n",
       "24               0      0            113788   35.5000           A6        S  \n",
       "25               3      1            349909   21.0750          NaN        S  \n",
       "26               1      5            347077   31.3875          NaN        S  \n",
       "27               0      0              2631    7.2250          NaN        C  \n",
       "28               3      2             19950  263.0000  C23 C25 C27        S  \n",
       "29               0      0            330959    7.8792          NaN        Q  \n",
       "30               0      0            349216    7.8958          NaN        S  \n",
       "...            ...    ...               ...       ...          ...      ...  \n",
       "862              1      0             28134   11.5000          NaN        S  \n",
       "863              0      0             17466   25.9292          D17        S  \n",
       "864              8      2          CA. 2343   69.5500          NaN        S  \n",
       "865              0      0            233866   13.0000          NaN        S  \n",
       "866              0      0            236852   13.0000          NaN        S  \n",
       "867              1      0     SC/PARIS 2149   13.8583          NaN        C  \n",
       "868              0      0          PC 17590   50.4958          A24        S  \n",
       "869              0      0            345777    9.5000          NaN        S  \n",
       "870              1      1            347742   11.1333          NaN        S  \n",
       "871              0      0            349248    7.8958          NaN        S  \n",
       "872              1      1             11751   52.5542          D35        S  \n",
       "873              0      0               695    5.0000  B51 B53 B55        S  \n",
       "874              0      0            345765    9.0000          NaN        S  \n",
       "875              1      0         P/PP 3381   24.0000          NaN        C  \n",
       "876              0      0              2667    7.2250          NaN        C  \n",
       "877              0      0              7534    9.8458          NaN        S  \n",
       "878              0      0            349212    7.8958          NaN        S  \n",
       "879              0      0            349217    7.8958          NaN        S  \n",
       "880              0      1             11767   83.1583          C50        C  \n",
       "881              0      1            230433   26.0000          NaN        S  \n",
       "882              0      0            349257    7.8958          NaN        S  \n",
       "883              0      0              7552   10.5167          NaN        S  \n",
       "884              0      0  C.A./SOTON 34068   10.5000          NaN        S  \n",
       "885              0      0   SOTON/OQ 392076    7.0500          NaN        S  \n",
       "886              0      5            382652   29.1250          NaN        Q  \n",
       "887              0      0            211536   13.0000          NaN        S  \n",
       "888              0      0            112053   30.0000          B42        S  \n",
       "889              1      2        W./C. 6607   23.4500          NaN        S  \n",
       "890              0      0            111369   30.0000         C148        C  \n",
       "891              0      0            370376    7.7500          NaN        Q  \n",
       "\n",
       "[891 rows x 11 columns]>"
      ]
     },
     "execution_count": 6,
     "metadata": {},
     "output_type": "execute_result"
    }
   ],
   "source": [
    "train.count"
   ]
  },
  {
   "cell_type": "code",
   "execution_count": 7,
   "metadata": {},
   "outputs": [
    {
     "data": {
      "text/plain": [
       "Index(['Survived', 'Pclass', 'Name', 'Sex', 'Age', 'SibSp', 'Parch', 'Ticket',\n",
       "       'Fare', 'Cabin', 'Embarked'],\n",
       "      dtype='object')"
      ]
     },
     "execution_count": 7,
     "metadata": {},
     "output_type": "execute_result"
    }
   ],
   "source": [
    "train.columns"
   ]
  },
  {
   "cell_type": "code",
   "execution_count": 8,
   "metadata": {
    "collapsed": true
   },
   "outputs": [],
   "source": [
    "def parse_model_O(X):\n",
    "    \"\"\"\n",
    "        Parsing: permet d'isoler la variable à prédire (Survived) et de\n",
    "        filtrer uniquement les variables définies\n",
    "    \"\"\"\n",
    "    target = X.Survived\n",
    "    X = X[['Fare', 'SibSp', 'Parch']]\n",
    "    return X, target"
   ]
  },
  {
   "cell_type": "code",
   "execution_count": 9,
   "metadata": {
    "collapsed": true,
    "scrolled": true
   },
   "outputs": [],
   "source": [
    "#type(train.copy())\n",
    "X, y = parse_model_O(train.copy())"
   ]
  },
  {
   "cell_type": "code",
   "execution_count": 10,
   "metadata": {},
   "outputs": [
    {
     "name": "stderr",
     "output_type": "stream",
     "text": [
      "/Users/mamadcamzis/anaconda3/lib/python3.6/site-packages/sklearn/cross_validation.py:41: DeprecationWarning: This module was deprecated in version 0.18 in favor of the model_selection module into which all the refactored classes and functions are moved. Also note that the interface of the new CV iterators are different from that of this module. This module will be removed in 0.20.\n",
      "  \"This module will be removed in 0.20.\", DeprecationWarning)\n"
     ]
    }
   ],
   "source": [
    "from sklearn.cross_validation import cross_val_score\n",
    "import numpy as np"
   ]
  },
  {
   "cell_type": "code",
   "execution_count": 11,
   "metadata": {
    "collapsed": true
   },
   "outputs": [],
   "source": [
    "def compute_score(clf, X, y):\n",
    "    xval = cross_val_score(clf, X, y, cv=5)\n",
    "    return np.mean(xval)"
   ]
  },
  {
   "cell_type": "code",
   "execution_count": 12,
   "metadata": {
    "collapsed": true
   },
   "outputs": [],
   "source": [
    "from sklearn.linear_model import LogisticRegression\n",
    "import matplotlib.pyplot as plt"
   ]
  },
  {
   "cell_type": "code",
   "execution_count": 13,
   "metadata": {
    "collapsed": true
   },
   "outputs": [],
   "source": [
    "lr = LogisticRegression()"
   ]
  },
  {
   "cell_type": "code",
   "execution_count": 14,
   "metadata": {},
   "outputs": [
    {
     "data": {
      "text/plain": [
       "0.67454885776833495"
      ]
     },
     "execution_count": 14,
     "metadata": {},
     "output_type": "execute_result"
    }
   ],
   "source": [
    "compute_score(lr, X, y)"
   ]
  },
  {
   "cell_type": "code",
   "execution_count": 15,
   "metadata": {
    "collapsed": true
   },
   "outputs": [],
   "source": [
    "survived = train[train.Survived == 1]\n",
    "dead = train[train.Survived == 0]\n",
    "import numpy as np"
   ]
  },
  {
   "cell_type": "code",
   "execution_count": 16,
   "metadata": {
    "scrolled": false
   },
   "outputs": [
    {
     "data": {
      "image/png": "[encoded data removed]",
      "text/plain": [
       "<matplotlib.figure.Figure at 0x1a0cb30048>"
      ]
     },
     "metadata": {},
     "output_type": "display_data"
    }
   ],
   "source": [
    "# Compraison des distribution Pclass\n",
    "def plot_hist(feature, bins=20):\n",
    "    x1 = np.array(dead[feature].dropna())\n",
    "    x2 = np.array(survived[feature].dropna())\n",
    "    plt.hist([x1, x2], label=['Victime', 'Survivant'], bins=bins, color=['r', 'b'])\n",
    "    plt.legend(loc='upper left')\n",
    "    plt.title('Distribution relative de %s' %feature)\n",
    "    plt.show()\n",
    "plot_hist('Pclass')"
   ]
  },
  {
   "cell_type": "code",
   "execution_count": null,
   "metadata": {
    "collapsed": true
   },
   "outputs": [],
   "source": []
  },
  {
   "cell_type": "code",
   "execution_count": 17,
   "metadata": {
    "collapsed": true
   },
   "outputs": [],
   "source": [
    "def parse_modeld_1(X):\n",
    "    target = X.Survived\n",
    "    class_dummies = pd.get_dummies(X['Pclass'], prefix='split_Pclass_')\n",
    "    #print(class_dummies)\n",
    "    X = X.join(class_dummies)\n",
    "   \n",
    "    to_del = ['Name', 'Age', 'Cabin', 'Embarked', 'Survived', 'Ticket', 'Sex']\n",
    "    for col in to_del: del X[col]\n",
    "    print(X)\n",
    "    return X, target"
   ]
  },
  {
   "cell_type": "code",
   "execution_count": 18,
   "metadata": {
    "scrolled": true
   },
   "outputs": [
    {
     "name": "stdout",
     "output_type": "stream",
     "text": [
      "             Pclass  SibSp  Parch      Fare  split_Pclass__1  split_Pclass__2  \\\n",
      "PassengerId                                                                     \n",
      "1                 3      1      0    7.2500                0                0   \n",
      "2                 1      1      0   71.2833                1                0   \n",
      "3                 3      0      0    7.9250                0                0   \n",
      "4                 1      1      0   53.1000                1                0   \n",
      "5                 3      0      0    8.0500                0                0   \n",
      "6                 3      0      0    8.4583                0                0   \n",
      "7                 1      0      0   51.8625                1                0   \n",
      "8                 3      3      1   21.0750                0                0   \n",
      "9                 3      0      2   11.1333                0                0   \n",
      "10                2      1      0   30.0708                0                1   \n",
      "11                3      1      1   16.7000                0                0   \n",
      "12                1      0      0   26.5500                1                0   \n",
      "13                3      0      0    8.0500                0                0   \n",
      "14                3      1      5   31.2750                0                0   \n",
      "15                3      0      0    7.8542                0                0   \n",
      "16                2      0      0   16.0000                0                1   \n",
      "17                3      4      1   29.1250                0                0   \n",
      "18                2      0      0   13.0000                0                1   \n",
      "19                3      1      0   18.0000                0                0   \n",
      "20                3      0      0    7.2250                0                0   \n",
      "21                2      0      0   26.0000                0                1   \n",
      "22                2      0      0   13.0000                0                1   \n",
      "23                3      0      0    8.0292                0                0   \n",
      "24                1      0      0   35.5000                1                0   \n",
      "25                3      3      1   21.0750                0                0   \n",
      "26                3      1      5   31.3875                0                0   \n",
      "27                3      0      0    7.2250                0                0   \n",
      "28                1      3      2  263.0000                1                0   \n",
      "29                3      0      0    7.8792                0                0   \n",
      "30                3      0      0    7.8958                0                0   \n",
      "...             ...    ...    ...       ...              ...              ...   \n",
      "862               2      1      0   11.5000                0                1   \n",
      "863               1      0      0   25.9292                1                0   \n",
      "864               3      8      2   69.5500                0                0   \n",
      "865               2      0      0   13.0000                0                1   \n",
      "866               2      0      0   13.0000                0                1   \n",
      "867               2      1      0   13.8583                0                1   \n",
      "868               1      0      0   50.4958                1                0   \n",
      "869               3      0      0    9.5000                0                0   \n",
      "870               3      1      1   11.1333                0                0   \n",
      "871               3      0      0    7.8958                0                0   \n",
      "872               1      1      1   52.5542                1                0   \n",
      "873               1      0      0    5.0000                1                0   \n",
      "874               3      0      0    9.0000                0                0   \n",
      "875               2      1      0   24.0000                0                1   \n",
      "876               3      0      0    7.2250                0                0   \n",
      "877               3      0      0    9.8458                0                0   \n",
      "878               3      0      0    7.8958                0                0   \n",
      "879               3      0      0    7.8958                0                0   \n",
      "880               1      0      1   83.1583                1                0   \n",
      "881               2      0      1   26.0000                0                1   \n",
      "882               3      0      0    7.8958                0                0   \n",
      "883               3      0      0   10.5167                0                0   \n",
      "884               2      0      0   10.5000                0                1   \n",
      "885               3      0      0    7.0500                0                0   \n",
      "886               3      0      5   29.1250                0                0   \n",
      "887               2      0      0   13.0000                0                1   \n",
      "888               1      0      0   30.0000                1                0   \n",
      "889               3      1      2   23.4500                0                0   \n",
      "890               1      0      0   30.0000                1                0   \n",
      "891               3      0      0    7.7500                0                0   \n",
      "\n",
      "             split_Pclass__3  \n",
      "PassengerId                   \n",
      "1                          1  \n",
      "2                          0  \n",
      "3                          1  \n",
      "4                          0  \n",
      "5                          1  \n",
      "6                          1  \n",
      "7                          0  \n",
      "8                          1  \n",
      "9                          1  \n",
      "10                         0  \n",
      "11                         1  \n",
      "12                         0  \n",
      "13                         1  \n",
      "14                         1  \n",
      "15                         1  \n",
      "16                         0  \n",
      "17                         1  \n",
      "18                         0  \n",
      "19                         1  \n",
      "20                         1  \n",
      "21                         0  \n",
      "22                         0  \n",
      "23                         1  \n",
      "24                         0  \n",
      "25                         1  \n",
      "26                         1  \n",
      "27                         1  \n",
      "28                         0  \n",
      "29                         1  \n",
      "30                         1  \n",
      "...                      ...  \n",
      "862                        0  \n",
      "863                        0  \n",
      "864                        1  \n",
      "865                        0  \n",
      "866                        0  \n",
      "867                        0  \n",
      "868                        0  \n",
      "869                        1  \n",
      "870                        1  \n",
      "871                        1  \n",
      "872                        0  \n",
      "873                        0  \n",
      "874                        1  \n",
      "875                        0  \n",
      "876                        1  \n",
      "877                        1  \n",
      "878                        1  \n",
      "879                        1  \n",
      "880                        0  \n",
      "881                        0  \n",
      "882                        1  \n",
      "883                        1  \n",
      "884                        0  \n",
      "885                        1  \n",
      "886                        1  \n",
      "887                        0  \n",
      "888                        0  \n",
      "889                        1  \n",
      "890                        0  \n",
      "891                        1  \n",
      "\n",
      "[891 rows x 7 columns]\n"
     ]
    }
   ],
   "source": [
    "X, y= parse_modeld_1(train.copy())"
   ]
  },
  {
   "cell_type": "code",
   "execution_count": 19,
   "metadata": {
    "scrolled": true
   },
   "outputs": [
    {
     "name": "stdout",
     "output_type": "stream",
     "text": [
      "PassengerId\n",
      "1      0\n",
      "2      1\n",
      "3      1\n",
      "4      1\n",
      "5      0\n",
      "6      0\n",
      "7      0\n",
      "8      0\n",
      "9      1\n",
      "10     1\n",
      "11     1\n",
      "12     1\n",
      "13     0\n",
      "14     0\n",
      "15     0\n",
      "16     1\n",
      "17     0\n",
      "18     1\n",
      "19     0\n",
      "20     1\n",
      "21     0\n",
      "22     1\n",
      "23     1\n",
      "24     1\n",
      "25     0\n",
      "26     1\n",
      "27     0\n",
      "28     0\n",
      "29     1\n",
      "30     0\n",
      "      ..\n",
      "862    0\n",
      "863    1\n",
      "864    0\n",
      "865    0\n",
      "866    1\n",
      "867    1\n",
      "868    0\n",
      "869    0\n",
      "870    1\n",
      "871    0\n",
      "872    1\n",
      "873    0\n",
      "874    0\n",
      "875    1\n",
      "876    1\n",
      "877    0\n",
      "878    0\n",
      "879    0\n",
      "880    1\n",
      "881    1\n",
      "882    0\n",
      "883    0\n",
      "884    0\n",
      "885    0\n",
      "886    0\n",
      "887    0\n",
      "888    1\n",
      "889    0\n",
      "890    1\n",
      "891    0\n",
      "Name: Survived, Length: 891, dtype: int64\n"
     ]
    }
   ],
   "source": [
    "print(y)"
   ]
  },
  {
   "cell_type": "code",
   "execution_count": 20,
   "metadata": {
    "collapsed": true
   },
   "outputs": [],
   "source": [
    "lr = LogisticRegression()"
   ]
  },
  {
   "cell_type": "code",
   "execution_count": 21,
   "metadata": {},
   "outputs": [
    {
     "data": {
      "text/plain": [
       "0.6926591973081655"
      ]
     },
     "execution_count": 21,
     "metadata": {},
     "output_type": "execute_result"
    }
   ],
   "source": [
    "compute_score(lr, X, y)"
   ]
  },
  {
   "cell_type": "code",
   "execution_count": 22,
   "metadata": {
    "collapsed": true
   },
   "outputs": [],
   "source": [
    "lr = LogisticRegression()"
   ]
  },
  {
   "cell_type": "code",
   "execution_count": 23,
   "metadata": {},
   "outputs": [
    {
     "data": {
      "text/plain": [
       "LogisticRegression(C=1.0, class_weight=None, dual=False, fit_intercept=True,\n",
       "          intercept_scaling=1, max_iter=100, multi_class='ovr', n_jobs=1,\n",
       "          penalty='l2', random_state=None, solver='liblinear', tol=0.0001,\n",
       "          verbose=0, warm_start=False)"
      ]
     },
     "execution_count": 23,
     "metadata": {},
     "output_type": "execute_result"
    }
   ],
   "source": [
    "lr.fit(X, y)"
   ]
  },
  {
   "cell_type": "code",
   "execution_count": 24,
   "metadata": {
    "scrolled": true
   },
   "outputs": [
    {
     "name": "stdout",
     "output_type": "stream",
     "text": [
      "[[-0.33284985 -0.14957265  0.23525502  0.00666668  0.21274476  0.26454607\n",
      "  -0.35822892]]\n"
     ]
    }
   ],
   "source": [
    "print(lr.coef_)"
   ]
  },
  {
   "cell_type": "code",
   "execution_count": 35,
   "metadata": {
    "collapsed": true
   },
   "outputs": [],
   "source": [
    "def parse_model_2(X):\n",
    "    target = X.Survived\n",
    "    to_dummy = ['Pclass', 'Sex']\n",
    "    for dum in to_dummy:\n",
    "        split_tmp = pd.get_dummies(X[dum], prefix='split_'+dum)\n",
    "       # print(split_tmp)\n",
    "        for col in split_tmp:\n",
    "            X[col] = split_tmp[col]\n",
    "        del X[dum]\n",
    "    X['Age'] = X.Age.fillna(X.Age.median())\n",
    "    \n",
    "    to_del = ['Name', 'Age', 'Cabin', 'Embarked', 'Survived', 'Ticket']\n",
    "    for col in to_del: del X[col]\n",
    "    return X, target"
   ]
  },
  {
   "cell_type": "code",
   "execution_count": 26,
   "metadata": {
    "collapsed": true
   },
   "outputs": [],
   "source": [
    "lr = LogisticRegression()"
   ]
  },
  {
   "cell_type": "code",
   "execution_count": 27,
   "metadata": {
    "collapsed": true
   },
   "outputs": [],
   "source": [
    "X, y = parse_model_2(train.copy())"
   ]
  },
  {
   "cell_type": "code",
   "execution_count": 28,
   "metadata": {},
   "outputs": [
    {
     "data": {
      "text/plain": [
       "0.79461193345454817"
      ]
     },
     "execution_count": 28,
     "metadata": {},
     "output_type": "execute_result"
    }
   ],
   "source": [
    "compute_score(lr, X, y)"
   ]
  },
  {
   "cell_type": "code",
   "execution_count": 29,
   "metadata": {
    "scrolled": true
   },
   "outputs": [
    {
     "data": {
      "text/plain": [
       "array([ 0.79461279,  0.8013468 ,  0.78787879])"
      ]
     },
     "execution_count": 29,
     "metadata": {},
     "output_type": "execute_result"
    }
   ],
   "source": [
    "cross_val_score(lr, X, y)"
   ]
  },
  {
   "cell_type": "code",
   "execution_count": 30,
   "metadata": {
    "scrolled": true
   },
   "outputs": [
    {
     "data": {
      "image/png": "[encoded data removed]",
      "text/plain": [
       "<matplotlib.figure.Figure at 0x1a1513b940>"
      ]
     },
     "metadata": {},
     "output_type": "display_data"
    }
   ],
   "source": [
    " plot_hist('Age')"
   ]
  },
  {
   "cell_type": "code",
   "execution_count": 31,
   "metadata": {
    "collapsed": true
   },
   "outputs": [],
   "source": [
    "def parse_model_2(X):\n",
    "    target = X.Survived\n",
    "    to_dummy = ['Pclass', 'Sex']\n",
    "    for dum in to_dummy:\n",
    "        split_tmp = pd.get_dummies(X[dum], prefix='split_'+dum)\n",
    "       # print(split_tmp)\n",
    "        for col in split_tmp:\n",
    "            X[col] = split_tmp[col]\n",
    "        del X[dum]\n",
    "    X['Age'] = X.Age.fillna(X.Age.median())\n",
    "    \n",
    "    X['is_child'] = X.Age < 8\n",
    "    to_del = ['Name', 'Age', 'Cabin', 'Embarked', 'Survived', 'Ticket']\n",
    "    for col in to_del: del X[col]\n",
    "    return X, target"
   ]
  },
  {
   "cell_type": "code",
   "execution_count": 32,
   "metadata": {
    "collapsed": true
   },
   "outputs": [],
   "source": [
    "lr = LogisticRegression()"
   ]
  },
  {
   "cell_type": "code",
   "execution_count": 33,
   "metadata": {
    "collapsed": true
   },
   "outputs": [],
   "source": [
    "X, y = parse_model_2(train.copy())"
   ]
  },
  {
   "cell_type": "code",
   "execution_count": 34,
   "metadata": {},
   "outputs": [
    {
     "data": {
      "text/plain": [
       "0.80696541972851143"
      ]
     },
     "execution_count": 34,
     "metadata": {},
     "output_type": "execute_result"
    }
   ],
   "source": [
    "compute_score(lr, X, y)"
   ]
  },
  {
   "cell_type": "code",
   "execution_count": 36,
   "metadata": {
    "collapsed": true
   },
   "outputs": [],
   "source": [
    "from sklearn.ensemble import RandomForestClassifier"
   ]
  },
  {
   "cell_type": "code",
   "execution_count": 37,
   "metadata": {
    "collapsed": true
   },
   "outputs": [],
   "source": [
    "rf = RandomForestClassifier()"
   ]
  },
  {
   "cell_type": "code",
   "execution_count": 38,
   "metadata": {},
   "outputs": [
    {
     "data": {
      "text/plain": [
       "0.80479341170095464"
      ]
     },
     "execution_count": 38,
     "metadata": {},
     "output_type": "execute_result"
    }
   ],
   "source": [
    "compute_score(rf, X, y)"
   ]
  },
  {
   "cell_type": "code",
   "execution_count": 75,
   "metadata": {
    "collapsed": true
   },
   "outputs": [],
   "source": [
    "def clf_importance(X, clf):\n",
    "    import pylab as pl\n",
    "    importances = clf.feature_importances_\n",
    "    indices = np.argsort(importances[::-1])\n",
    "    plt.title('Features importance')\n",
    "    for tree in clf.estimators_:\n",
    "        plt.plot(range(X.shape[1]), tree.feature_importances_[indices], 'r')\n",
    "        plt.plot(range(X.shape[1]), importances[indices], 'b')\n",
    "         \n",
    "        plt.show()\n",
    "        \n",
    "    for f in range(X.shape[1]):\n",
    "        print(\"%d. features : %s(%f)\"%(f +1, X.columns[indices[f]], importances[indices[f]]))\n",
    "        \n",
    "        "
   ]
  },
  {
   "cell_type": "code",
   "execution_count": 76,
   "metadata": {},
   "outputs": [],
   "source": [
    "rf =RandomForestClassifier()"
   ]
  },
  {
   "cell_type": "code",
   "execution_count": 77,
   "metadata": {
    "scrolled": true
   },
   "outputs": [
    {
     "data": {
      "text/plain": [
       "RandomForestClassifier(bootstrap=True, class_weight=None, criterion='gini',\n",
       "            max_depth=None, max_features='auto', max_leaf_nodes=None,\n",
       "            min_impurity_decrease=0.0, min_impurity_split=None,\n",
       "            min_samples_leaf=1, min_samples_split=2,\n",
       "            min_weight_fraction_leaf=0.0, n_estimators=10, n_jobs=1,\n",
       "            oob_score=False, random_state=None, verbose=0,\n",
       "            warm_start=False)"
      ]
     },
     "execution_count": 77,
     "metadata": {},
     "output_type": "execute_result"
    }
   ],
   "source": [
    "rf.fit(X, y)"
   ]
  },
  {
   "cell_type": "code",
   "execution_count": 78,
   "metadata": {
    "scrolled": true
   },
   "outputs": [
    {
     "name": "stdout",
     "output_type": "stream",
     "text": [
      "1. features : split_Pclass_2(0.019095)\n",
      "2. features : split_Pclass_3(0.049385)\n",
      "3. features : is_child(0.051406)\n",
      "4. features : split_Sex_male(0.271768)\n",
      "5. features : split_Pclass_1(0.032606)\n",
      "6. features : SibSp(0.042055)\n",
      "7. features : Fare(0.391390)\n",
      "8. features : Parch(0.046911)\n",
      "9. features : split_Sex_female(0.095383)\n"
     ]
    }
   ],
   "source": [
    "clf_importance(X, rf)"
   ]
  },
  {
   "cell_type": "code",
   "execution_count": 85,
   "metadata": {},
   "outputs": [],
   "source": [
    "def parse_model_4(X):\n",
    "    target = X.Survived\n",
    "    X['title'] = X.Name.map(lambda x : x.split('.')[1].split('.')[0])\n",
    "    X['surname'] = X.Name.map(lambda x: '(' in x)\n",
    "    X['Cabin'] = X.Cabin.map(lambda x: x[0] if not pd.isnull(x) else -1)\n",
    "    to_dummy = ['Pclass', 'Sex', 'title', 'Embarked', 'Cabin']\n",
    "    for dum in to_dummy:\n",
    "        split_feature = pd.get_dummies(X[dum], prefix='split_'+dum)\n",
    "        X = X.join(split_feature)\n",
    "        del X[dum]\n",
    "    X['Age'] = X.Age.fillna(X.Age.median())\n",
    "    X['is_child'] = X.Age < 8\n",
    "    to_del = ['Name', 'Survived', 'Ticket']\n",
    "    for col in to_del: del X[col]\n",
    "    return X, target\n",
    "        \n",
    "    \n",
    "                            "
   ]
  },
  {
   "cell_type": "code",
   "execution_count": 86,
   "metadata": {
    "collapsed": true
   },
   "outputs": [],
   "source": [
    "lr = LogisticRegression()"
   ]
  },
  {
   "cell_type": "code",
   "execution_count": 87,
   "metadata": {
    "collapsed": true
   },
   "outputs": [],
   "source": [
    "X, y = parse_model_4(train.copy())"
   ]
  },
  {
   "cell_type": "code",
   "execution_count": 88,
   "metadata": {
    "scrolled": false
   },
   "outputs": [
    {
     "data": {
      "text/plain": [
       "0.82046753886020463"
      ]
     },
     "execution_count": 88,
     "metadata": {},
     "output_type": "execute_result"
    }
   ],
   "source": [
    "compute_score(lr, X, y)"
   ]
  },
  {
   "cell_type": "code",
   "execution_count": null,
   "metadata": {
    "collapsed": true
   },
   "outputs": [],
   "source": []
  }
 ],
 "metadata": {
  "kernelspec": {
   "display_name": "Python 3",
   "language": "python",
   "name": "python3"
  },
  "language_info": {
   "codemirror_mode": {
    "name": "ipython",
    "version": 3
   },
   "file_extension": ".py",
   "mimetype": "text/x-python",
   "name": "python",
   "nbconvert_exporter": "python",
   "pygments_lexer": "ipython3",
   "version": "3.6.3"
  }
 },
 "nbformat": 4,
 "nbformat_minor": 2
}
