{
 "cells": [
  {
   "cell_type": "markdown",
   "metadata": {},
   "source": [
    "\n",
    "\n",
    "\n",
    "\n",
    "# Regression Week 4: Ridge Regression (gradient descent)"
   ]
  },
  {
   "cell_type": "markdown",
   "metadata": {},
   "source": [
    "In this notebook, you will implement ridge regression via gradient descent. You will:\n",
    "* Convert an SFrame into a Numpy array\n",
    "* Write a Numpy function to compute the derivative of the regression weights with respect to a single feature\n",
    "* Write gradient descent function to compute the regression weights given an initial weight vector, step size, tolerance, and L2 penalty"
   ]
  },
  {
   "cell_type": "markdown",
   "metadata": {},
   "source": [
    "# Fire up graphlab create"
   ]
  },
  {
   "cell_type": "markdown",
   "metadata": {},
   "source": [
    "Make sure you have the latest version of GraphLab Create (>= 1.7)"
   ]
  },
  {
   "cell_type": "code",
   "execution_count": 1,
   "metadata": {
    "collapsed": false
   },
   "outputs": [],
   "source": [
    "import graphlab"
   ]
  },
  {
   "cell_type": "markdown",
   "metadata": {},
   "source": [
    "# Load in house sales data\n",
    "\n",
    "Dataset is from house sales in King County, the region where the city of Seattle, WA is located."
   ]
  },
  {
   "cell_type": "code",
   "execution_count": 2,
   "metadata": {
    "collapsed": false
   },
   "outputs": [
    {
     "name": "stdout",
     "output_type": "stream",
     "text": [
      "This non-commercial license of GraphLab Create for academic use is assigned to camara0388@gmail.com and will expire on January 17, 2018.\n"
     ]
    },
    {
     "name": "stderr",
     "output_type": "stream",
     "text": [
      "[INFO] graphlab.cython.cy_server: GraphLab Create v2.1 started. Logging: /tmp/graphlab_server_1515103872.log\n"
     ]
    }
   ],
   "source": [
    "sales = graphlab.SFrame('kc_house_data.gl/')"
   ]
  },
  {
   "cell_type": "markdown",
   "metadata": {},
   "source": [
    "If we want to do any \"feature engineering\" like creating new features or adjusting existing ones we should do this directly using the SFrames as seen in the first notebook of Week 2. For this notebook, however, we will work with the existing features."
   ]
  },
  {
   "cell_type": "markdown",
   "metadata": {},
   "source": [
    "# Import useful functions from previous notebook"
   ]
  },
  {
   "cell_type": "markdown",
   "metadata": {},
   "source": [
    "As in Week 2, we convert the SFrame into a 2D Numpy array. Copy and paste `get_numpy_data()` from the second notebook of Week 2."
   ]
  },
  {
   "cell_type": "code",
   "execution_count": 3,
   "metadata": {
    "collapsed": true
   },
   "outputs": [],
   "source": [
    "import numpy as np # note this allows us to refer to numpy as np instead "
   ]
  },
  {
   "cell_type": "code",
   "execution_count": 4,
   "metadata": {
    "collapsed": false
   },
   "outputs": [],
   "source": [
    " def get_numpy_data(data_sframe, features, output):\n",
    "    data_sframe['constant'] = 1 # this is how you add a constant column to an SFrame\n",
    "    # add the column 'constant' to the front of the features list so that we can extract it along with the others:\n",
    "    features = ['constant'] + features # this is how you combine two lists\n",
    "    # select the columns of data_SFrame given by the features list into the SFrame features_sframe (now including constant):\n",
    "    features_sframe = data_sframe[features]\n",
    "    # the following line will convert the features_SFrame into a numpy matrix:\n",
    "    feature_matrix = features_sframe.to_numpy()\n",
    "    # assign the column of data_sframe associated with the output to the SArray output_sarray\n",
    "    output_sarray = data_sframe[output]\n",
    "    # the following will convert the SArray into a numpy array by first converting it to a list\n",
    "    output_array = output_sarray.to_numpy()\n",
    "    return(feature_matrix, output_array)"
   ]
  },
  {
   "cell_type": "markdown",
   "metadata": {},
   "source": [
    "Also, copy and paste the `predict_output()` function to compute the predictions for an entire matrix of features given the matrix and the weights:"
   ]
  },
  {
   "cell_type": "code",
   "execution_count": 5,
   "metadata": {
    "collapsed": true
   },
   "outputs": [],
   "source": [
    "def predict_output(feature_matrix, weights):\n",
    "    # assume feature_matrix is a numpy matrix containing the features as columns and weights is \n",
    "    # a corresponding numpy array\n",
    "    # create the predictions vector by using np.dot()\n",
    "    predictions = np.dot(feature_matrix, weights)\n",
    "\n",
    "    return(predictions)"
   ]
  },
  {
   "cell_type": "markdown",
   "metadata": {},
   "source": [
    "# Computing the Derivative"
   ]
  },
  {
   "cell_type": "markdown",
   "metadata": {},
   "source": [
    "We are now going to move to computing the derivative of the regression cost function. Recall that the cost function is the sum over the data points of the squared difference between an observed output and a predicted output, plus the L2 penalty term.\n",
    "```\n",
    "Cost(w)\n",
    "= SUM[ (prediction - output)^2 ]\n",
    "+ l2_penalty*(w[0]^2 + w[1]^2 + ... + w[k]^2).\n",
    "```\n",
    "\n",
    "Since the derivative of a sum is the sum of the derivatives, we can take the derivative of the first part (the RSS) as we did in the notebook for the unregularized case in Week 2 and add the derivative of the regularization part.  As we saw, the derivative of the RSS with respect to `w[i]` can be written as: \n",
    "```\n",
    "2*SUM[ error*[feature_i] ].\n",
    "```\n",
    "The derivative of the regularization term with respect to `w[i]` is:\n",
    "```\n",
    "2*l2_penalty*w[i].\n",
    "```\n",
    "Summing both, we get\n",
    "```\n",
    "2*SUM[ error*[feature_i] ] + 2*l2_penalty*w[i].\n",
    "```\n",
    "That is, the derivative for the weight for feature i is the sum (over data points) of 2 times the product of the error and the feature itself, plus `2*l2_penalty*w[i]`. \n",
    "\n",
    "**We will not regularize the constant.**  Thus, in the case of the constant, the derivative is just twice the sum of the errors (without the `2*l2_penalty*w[0]` term).\n",
    "\n",
    "Recall that twice the sum of the product of two vectors is just twice the dot product of the two vectors. Therefore the derivative for the weight for feature_i is just two times the dot product between the values of feature_i and the current errors, plus `2*l2_penalty*w[i]`.\n",
    "\n",
    "With this in mind complete the following derivative function which computes the derivative of the weight given the value of the feature (over all data points) and the errors (over all data points).  To decide when to we are dealing with the constant (so we don't regularize it) we added the extra parameter to the call `feature_is_constant` which you should set to `True` when computing the derivative of the constant and `False` otherwise."
   ]
  },
  {
   "cell_type": "code",
   "execution_count": 6,
   "metadata": {
    "collapsed": true
   },
   "outputs": [],
   "source": [
    "def feature_derivative_ridge(errors, feature, weight, l2_penalty, feature_is_constant):\n",
    "    # If feature_is_constant is True, derivative is twice the dot product of errors and feature\n",
    "    if  feature_is_constant:\n",
    "        derivative = 2* np.dot(errors, feature)\n",
    "    # Otherwise, derivative is twice the dot product plus 2*l2_penalty*weight\n",
    "    else:\n",
    "        derivative = 2 * np.dot(errors, feature) + 2*l2_penalty*weight\n",
    "    \n",
    "    return derivative"
   ]
  },
  {
   "cell_type": "markdown",
   "metadata": {},
   "source": [
    "To test your feature derivartive run the following:"
   ]
  },
  {
   "cell_type": "code",
   "execution_count": 7,
   "metadata": {
    "collapsed": false
   },
   "outputs": [
    {
     "name": "stdout",
     "output_type": "stream",
     "text": [
      "-5.65541667824e+13\n",
      "-5.65541667824e+13\n",
      "\n",
      "-22446749336.0\n",
      "-22446749336.0\n"
     ]
    }
   ],
   "source": [
    "(example_features, example_output) = get_numpy_data(sales, ['sqft_living'], 'price') \n",
    "my_weights = np.array([1., 10.])\n",
    "test_predictions = predict_output(example_features, my_weights) \n",
    "errors = test_predictions - example_output # prediction errors\n",
    "\n",
    "# next two lines should print the same values\n",
    "print feature_derivative_ridge(errors, example_features[:,1], my_weights[1], 1, False)\n",
    "print np.sum(errors*example_features[:,1])*2+20.\n",
    "print ''\n",
    "\n",
    "# next two lines should print the same values\n",
    "print feature_derivative_ridge(errors, example_features[:,0], my_weights[0], 1, True)\n",
    "print np.sum(errors)*2."
   ]
  },
  {
   "cell_type": "markdown",
   "metadata": {},
   "source": [
    "# Gradient Descent"
   ]
  },
  {
   "cell_type": "markdown",
   "metadata": {},
   "source": [
    "Now we will write a function that performs a gradient descent. The basic premise is simple. Given a starting point we update the current weights by moving in the negative gradient direction. Recall that the gradient is the direction of *increase* and therefore the negative gradient is the direction of *decrease* and we're trying to *minimize* a cost function. \n",
    "\n",
    "The amount by which we move in the negative gradient *direction*  is called the 'step size'. We stop when we are 'sufficiently close' to the optimum. Unlike in Week 2, this time we will set a **maximum number of iterations** and take gradient steps until we reach this maximum number. If no maximum number is supplied, the maximum should be set 100 by default. (Use default parameter values in Python.)\n",
    "\n",
    "With this in mind, complete the following gradient descent function below using your derivative function above. For each step in the gradient descent, we update the weight for each feature before computing our stopping criteria."
   ]
  },
  {
   "cell_type": "code",
   "execution_count": 8,
   "metadata": {
    "collapsed": false
   },
   "outputs": [],
   "source": [
    "def ridge_regression_gradient_descent(feature_matrix, output, initial_weights, step_size, l2_penalty,\n",
    "                                      max_iterations=100):\n",
    "    print 'Starting gradient descent with l2_penalty = ' + str(l2_penalty)\n",
    "    \n",
    "    weights = np.array(initial_weights) # make sure it's a numpy array\n",
    "    iteration = 0 # iteration counter\n",
    "    print_frequency = 1  # for adjusting frequency of debugging output\n",
    "    \n",
    "    while iteration < max_iterations:\n",
    "          # increment iteration counter\n",
    "        ### === code section for adjusting frequency of debugging output. ===\n",
    "        if iteration == 10:\n",
    "            print_frequency = 10\n",
    "        if iteration == 100:\n",
    "            print_frequency = 100\n",
    "        if iteration%print_frequency==0:\n",
    "            print('Iteration = ' + str(iteration))\n",
    "        ### === end code section ===\n",
    "        \n",
    "        # compute the predictions based on feature_matrix and weights using your predict_output() function\n",
    "        predctions = predict_output(feature_matrix, weights)\n",
    "        # compute the errors as predictions - output\n",
    "        errors = predctions - output\n",
    "\n",
    "        # from time to time, print the value of the cost function\n",
    "        if iteration%print_frequency==0:\n",
    "            print 'Cost function = ', str(np.dot(errors,errors) + l2_penalty*(np.dot(weights,weights) - weights[0]**2))\n",
    "        \n",
    "        for i in xrange(len(weights)): # loop over each weight\n",
    "            # Recall that feature_matrix[:,i] is the feature column associated with weights[i]\n",
    "            # compute the derivative for weight[i].\n",
    "            #(Remember: when i=0, you are computing the derivative of the constant!)\n",
    "            if i == 0:\n",
    "                derivative = feature_derivative_ridge(errors, feature_matrix[:,i],weights[i], \n",
    "                                                    l2_penalty, True)\n",
    "            else: \n",
    "                  derivative = feature_derivative_ridge(errors, feature_matrix[:,i], weights[i], \n",
    "                                                    l2_penalty, False)\n",
    "\n",
    "            # subtract the step size times the derivative from the current weight\n",
    "            weights[i] = weights[i] - step_size*derivative\n",
    "            iteration += 1\n",
    "            \n",
    "    print 'Done with gradient descent at iteration ', iteration\n",
    "    print 'Learned weights = ', str(weights)\n",
    "    return weights"
   ]
  },
  {
   "cell_type": "markdown",
   "metadata": {},
   "source": [
    "# Visualizing effect of L2 penalty"
   ]
  },
  {
   "cell_type": "markdown",
   "metadata": {},
   "source": [
    "The L2 penalty gets its name because it causes weights to have small L2 norms than otherwise. Let's see how large weights get penalized. Let us consider a simple model with 1 feature:"
   ]
  },
  {
   "cell_type": "code",
   "execution_count": 21,
   "metadata": {
    "collapsed": true
   },
   "outputs": [],
   "source": [
    "simple_features = ['sqft_living']\n",
    "my_output = 'price'\n",
    "double_features = ['sqft_living', 'sqft_living15']"
   ]
  },
  {
   "cell_type": "markdown",
   "metadata": {},
   "source": [
    "Let us split the dataset into training set and test set. Make sure to use `seed=0`:"
   ]
  },
  {
   "cell_type": "code",
   "execution_count": 22,
   "metadata": {
    "collapsed": true
   },
   "outputs": [],
   "source": [
    "train_data,test_data = sales.random_split(.8,seed=0)"
   ]
  },
  {
   "cell_type": "markdown",
   "metadata": {},
   "source": [
    "In this part, we will only use `'sqft_living'` to predict `'price'`. Use the `get_numpy_data` function to get a Numpy versions of your data with only this feature, for both the `train_data` and the `test_data`. "
   ]
  },
  {
   "cell_type": "code",
   "execution_count": 23,
   "metadata": {
    "collapsed": true
   },
   "outputs": [],
   "source": [
    "(simple_feature_matrix, output) = get_numpy_data(train_data, simple_features, my_output)\n",
    "(simple_test_feature_matrix, test_output) = get_numpy_data(test_data, simple_features, my_output)\n",
    "(double_feature_matrix, doutput) = get_numpy_data(train_data, double_features, my_output)"
   ]
  },
  {
   "cell_type": "markdown",
   "metadata": {},
   "source": [
    "Let's set the parameters for our optimization:"
   ]
  },
  {
   "cell_type": "code",
   "execution_count": 24,
   "metadata": {
    "collapsed": true
   },
   "outputs": [],
   "source": [
    "initial_weights = np.array([0., 0., 0.])\n",
    "initial_weights0 = np.array([0., 0.])\n",
    "step_size = 1e-12\n",
    "max_iterations=1000"
   ]
  },
  {
   "cell_type": "markdown",
   "metadata": {},
   "source": [
    "First, let's consider no regularization.  Set the `l2_penalty` to `0.0` and run your ridge regression algorithm to learn the weights of your model.  Call your weights:\n",
    "\n",
    "`simple_weights_0_penalty`\n",
    "\n",
    "we'll use them later."
   ]
  },
  {
   "cell_type": "code",
   "execution_count": 25,
   "metadata": {
    "collapsed": false
   },
   "outputs": [
    {
     "name": "stdout",
     "output_type": "stream",
     "text": [
      "Starting gradient descent with l2_penalty = 0.0\n",
      "Iteration = 0\n",
      "Cost function =  7.43305185103e+15\n",
      "Iteration = 2\n",
      "Cost function =  5.39426721314e+15\n",
      "Iteration = 4\n",
      "Cost function =  4.0232377365e+15\n",
      "Iteration = 6\n",
      "Cost function =  3.10125618392e+15\n",
      "Iteration = 8\n",
      "Cost function =  2.48124764451e+15\n",
      "Iteration = 10\n",
      "Cost function =  2.06430807789e+15\n",
      "Iteration = 20\n",
      "Cost function =  1.32597916586e+15\n",
      "Iteration = 30\n",
      "Cost function =  1.22444152375e+15\n",
      "Iteration = 40\n",
      "Cost function =  1.21047770248e+15\n",
      "Iteration = 50\n",
      "Cost function =  1.20855734736e+15\n",
      "Iteration = 60\n",
      "Cost function =  1.20829325292e+15\n",
      "Iteration = 70\n",
      "Cost function =  1.20825693339e+15\n",
      "Iteration = 80\n",
      "Cost function =  1.20825193829e+15\n",
      "Iteration = 90\n",
      "Cost function =  1.20825125103e+15\n",
      "Iteration = 100\n",
      "Cost function =  1.2082511562e+15\n",
      "Iteration = 200\n",
      "Cost function =  1.20825113753e+15\n",
      "Iteration = 300\n",
      "Cost function =  1.20825113392e+15\n",
      "Iteration = 400\n",
      "Cost function =  1.2082511303e+15\n",
      "Iteration = 500\n",
      "Cost function =  1.20825112669e+15\n",
      "Iteration = 600\n",
      "Cost function =  1.20825112308e+15\n",
      "Iteration = 700\n",
      "Cost function =  1.20825111946e+15\n",
      "Iteration = 800\n",
      "Cost function =  1.20825111585e+15\n",
      "Iteration = 900\n",
      "Cost function =  1.20825111224e+15\n",
      "Done with gradient descent at iteration  1000\n",
      "Learned weights =  [ -2.87061691e-02   2.63024315e+02]\n"
     ]
    }
   ],
   "source": [
    "l2_penalty=0.\n",
    "simple_weights_0_penalty = ridge_regression_gradient_descent(simple_feature_matrix, output, \n",
    "                                                             initial_weights0, step_size, \n",
    "                                                             l2_penalty,\n",
    "                                                              max_iterations)\n",
    "\n"
   ]
  },
  {
   "cell_type": "code",
   "execution_count": 26,
   "metadata": {
    "collapsed": false
   },
   "outputs": [
    {
     "name": "stdout",
     "output_type": "stream",
     "text": [
      "Starting gradient descent with l2_penalty = 0.0\n",
      "Iteration = 0\n",
      "Cost function =  7.43305185103e+15\n",
      "Iteration = 3\n",
      "Cost function =  4.0567523315e+15\n",
      "Iteration = 6\n",
      "Cost function =  2.52956511433e+15\n",
      "Iteration = 9\n",
      "Cost function =  1.83855669428e+15\n",
      "Iteration = 12\n",
      "Cost function =  1.52567557521e+15\n",
      "Iteration = 15\n",
      "Cost function =  1.38378949867e+15\n",
      "Iteration = 18\n",
      "Cost function =  1.31923260628e+15\n",
      "Iteration = 21\n",
      "Cost function =  1.28964887203e+15\n",
      "Iteration = 24\n",
      "Cost function =  1.27588472408e+15\n",
      "Iteration = 27\n",
      "Cost function =  1.26927880758e+15\n",
      "Iteration = 30\n",
      "Cost function =  1.26591437896e+15\n",
      "Iteration = 33\n",
      "Cost function =  1.26402022214e+15\n",
      "Iteration = 36\n",
      "Cost function =  1.26279533535e+15\n",
      "Iteration = 39\n",
      "Cost function =  1.26187745114e+15\n",
      "Iteration = 42\n",
      "Cost function =  1.26110269961e+15\n",
      "Iteration = 45\n",
      "Cost function =  1.26039692738e+15\n",
      "Iteration = 48\n",
      "Cost function =  1.25972655178e+15\n",
      "Iteration = 51\n",
      "Cost function =  1.25907633688e+15\n",
      "Iteration = 54\n",
      "Cost function =  1.25843934384e+15\n",
      "Iteration = 57\n",
      "Cost function =  1.25781238632e+15\n",
      "Iteration = 60\n",
      "Cost function =  1.25719397547e+15\n",
      "Iteration = 63\n",
      "Cost function =  1.25658339063e+15\n",
      "Iteration = 66\n",
      "Cost function =  1.25598025905e+15\n",
      "Iteration = 69\n",
      "Cost function =  1.25538436588e+15\n",
      "Iteration = 72\n",
      "Cost function =  1.2547955682e+15\n",
      "Iteration = 75\n",
      "Cost function =  1.25421375619e+15\n",
      "Iteration = 78\n",
      "Cost function =  1.25363883549e+15\n",
      "Iteration = 81\n",
      "Cost function =  1.25307071931e+15\n",
      "Iteration = 84\n",
      "Cost function =  1.25250932477e+15\n",
      "Iteration = 87\n",
      "Cost function =  1.25195457127e+15\n",
      "Iteration = 90\n",
      "Cost function =  1.25140637978e+15\n",
      "Iteration = 93\n",
      "Cost function =  1.25086467246e+15\n",
      "Iteration = 96\n",
      "Cost function =  1.25032937251e+15\n",
      "Iteration = 99\n",
      "Cost function =  1.24980040411e+15\n",
      "Iteration = 102\n",
      "Cost function =  1.24927769235e+15\n",
      "Iteration = 105\n",
      "Cost function =  1.2487611632e+15\n",
      "Iteration = 108\n",
      "Cost function =  1.24825074355e+15\n",
      "Iteration = 111\n",
      "Cost function =  1.24774636112e+15\n",
      "Iteration = 114\n",
      "Cost function =  1.24724794451e+15\n",
      "Iteration = 117\n",
      "Cost function =  1.24675542316e+15\n",
      "Iteration = 120\n",
      "Cost function =  1.24626872732e+15\n",
      "Iteration = 123\n",
      "Cost function =  1.24578778811e+15\n",
      "Iteration = 126\n",
      "Cost function =  1.24531253742e+15\n",
      "Iteration = 129\n",
      "Cost function =  1.24484290799e+15\n",
      "Iteration = 132\n",
      "Cost function =  1.24437883331e+15\n",
      "Iteration = 135\n",
      "Cost function =  1.24392024769e+15\n",
      "Iteration = 138\n",
      "Cost function =  1.2434670862e+15\n",
      "Iteration = 141\n",
      "Cost function =  1.24301928468e+15\n",
      "Iteration = 144\n",
      "Cost function =  1.24257677975e+15\n",
      "Iteration = 147\n",
      "Cost function =  1.24213950875e+15\n",
      "Iteration = 150\n",
      "Cost function =  1.24170740977e+15\n",
      "Iteration = 153\n",
      "Cost function =  1.24128042164e+15\n",
      "Iteration = 156\n",
      "Cost function =  1.24085848391e+15\n",
      "Iteration = 159\n",
      "Cost function =  1.24044153685e+15\n",
      "Iteration = 162\n",
      "Cost function =  1.24002952141e+15\n",
      "Iteration = 165\n",
      "Cost function =  1.23962237928e+15\n",
      "Iteration = 168\n",
      "Cost function =  1.23922005281e+15\n",
      "Iteration = 171\n",
      "Cost function =  1.23882248505e+15\n",
      "Iteration = 174\n",
      "Cost function =  1.23842961969e+15\n",
      "Iteration = 177\n",
      "Cost function =  1.23804140114e+15\n",
      "Iteration = 180\n",
      "Cost function =  1.23765777441e+15\n",
      "Iteration = 183\n",
      "Cost function =  1.23727868521e+15\n",
      "Iteration = 186\n",
      "Cost function =  1.23690407986e+15\n",
      "Iteration = 189\n",
      "Cost function =  1.23653390533e+15\n",
      "Iteration = 192\n",
      "Cost function =  1.23616810921e+15\n",
      "Iteration = 195\n",
      "Cost function =  1.23580663971e+15\n",
      "Iteration = 198\n",
      "Cost function =  1.23544944566e+15\n",
      "Iteration = 201\n",
      "Cost function =  1.23509647648e+15\n",
      "Iteration = 204\n",
      "Cost function =  1.23474768221e+15\n",
      "Iteration = 207\n",
      "Cost function =  1.23440301346e+15\n",
      "Iteration = 210\n",
      "Cost function =  1.23406242145e+15\n",
      "Iteration = 213\n",
      "Cost function =  1.23372585794e+15\n",
      "Iteration = 216\n",
      "Cost function =  1.23339327529e+15\n",
      "Iteration = 219\n",
      "Cost function =  1.23306462641e+15\n",
      "Iteration = 222\n",
      "Cost function =  1.23273986478e+15\n",
      "Iteration = 225\n",
      "Cost function =  1.23241894442e+15\n",
      "Iteration = 228\n",
      "Cost function =  1.23210181989e+15\n",
      "Iteration = 231\n",
      "Cost function =  1.23178844629e+15\n",
      "Iteration = 234\n",
      "Cost function =  1.23147877927e+15\n",
      "Iteration = 237\n",
      "Cost function =  1.23117277498e+15\n",
      "Iteration = 240\n",
      "Cost function =  1.23087039009e+15\n",
      "Iteration = 243\n",
      "Cost function =  1.2305715818e+15\n",
      "Iteration = 246\n",
      "Cost function =  1.2302763078e+15\n",
      "Iteration = 249\n",
      "Cost function =  1.22998452629e+15\n",
      "Iteration = 252\n",
      "Cost function =  1.22969619595e+15\n",
      "Iteration = 255\n",
      "Cost function =  1.22941127598e+15\n",
      "Iteration = 258\n",
      "Cost function =  1.22912972603e+15\n",
      "Iteration = 261\n",
      "Cost function =  1.22885150624e+15\n",
      "Iteration = 264\n",
      "Cost function =  1.22857657723e+15\n",
      "Iteration = 267\n",
      "Cost function =  1.22830490006e+15\n",
      "Iteration = 270\n",
      "Cost function =  1.22803643628e+15\n",
      "Iteration = 273\n",
      "Cost function =  1.22777114788e+15\n",
      "Iteration = 276\n",
      "Cost function =  1.22750899729e+15\n",
      "Iteration = 279\n",
      "Cost function =  1.22724994742e+15\n",
      "Iteration = 282\n",
      "Cost function =  1.22699396157e+15\n",
      "Iteration = 285\n",
      "Cost function =  1.22674100351e+15\n",
      "Iteration = 288\n",
      "Cost function =  1.22649103744e+15\n",
      "Iteration = 291\n",
      "Cost function =  1.22624402795e+15\n",
      "Iteration = 294\n",
      "Cost function =  1.22599994007e+15\n",
      "Iteration = 297\n",
      "Cost function =  1.22575873926e+15\n",
      "Iteration = 300\n",
      "Cost function =  1.22552039137e+15\n",
      "Iteration = 303\n",
      "Cost function =  1.22528486264e+15\n",
      "Iteration = 306\n",
      "Cost function =  1.22505211973e+15\n",
      "Iteration = 309\n",
      "Cost function =  1.2248221297e+15\n",
      "Iteration = 312\n",
      "Cost function =  1.22459485998e+15\n",
      "Iteration = 315\n",
      "Cost function =  1.2243702784e+15\n",
      "Iteration = 318\n",
      "Cost function =  1.22414835315e+15\n",
      "Iteration = 321\n",
      "Cost function =  1.22392905284e+15\n",
      "Iteration = 324\n",
      "Cost function =  1.22371234639e+15\n",
      "Iteration = 327\n",
      "Cost function =  1.22349820314e+15\n",
      "Iteration = 330\n",
      "Cost function =  1.22328659277e+15\n",
      "Iteration = 333\n",
      "Cost function =  1.22307748531e+15\n",
      "Iteration = 336\n",
      "Cost function =  1.22287085117e+15\n",
      "Iteration = 339\n",
      "Cost function =  1.22266666109e+15\n",
      "Iteration = 342\n",
      "Cost function =  1.22246488616e+15\n",
      "Iteration = 345\n",
      "Cost function =  1.22226549782e+15\n",
      "Iteration = 348\n",
      "Cost function =  1.22206846783e+15\n",
      "Iteration = 351\n",
      "Cost function =  1.2218737683e+15\n",
      "Iteration = 354\n",
      "Cost function =  1.22168137167e+15\n",
      "Iteration = 357\n",
      "Cost function =  1.22149125071e+15\n",
      "Iteration = 360\n",
      "Cost function =  1.22130337848e+15\n",
      "Iteration = 363\n",
      "Cost function =  1.2211177284e+15\n",
      "Iteration = 366\n",
      "Cost function =  1.22093427417e+15\n",
      "Iteration = 369\n",
      "Cost function =  1.22075298984e+15\n",
      "Iteration = 372\n",
      "Cost function =  1.22057384973e+15\n",
      "Iteration = 375\n",
      "Cost function =  1.22039682848e+15\n",
      "Iteration = 378\n",
      "Cost function =  1.22022190103e+15\n",
      "Iteration = 381\n",
      "Cost function =  1.22004904262e+15\n",
      "Iteration = 384\n",
      "Cost function =  1.21987822876e+15\n",
      "Iteration = 387\n",
      "Cost function =  1.21970943529e+15\n",
      "Iteration = 390\n",
      "Cost function =  1.21954263829e+15\n",
      "Iteration = 393\n",
      "Cost function =  1.21937781417e+15\n",
      "Iteration = 396\n",
      "Cost function =  1.21921493957e+15\n",
      "Iteration = 399\n",
      "Cost function =  1.21905399145e+15\n",
      "Iteration = 402\n",
      "Cost function =  1.21889494702e+15\n",
      "Iteration = 405\n",
      "Cost function =  1.21873778376e+15\n",
      "Iteration = 408\n",
      "Cost function =  1.21858247941e+15\n",
      "Iteration = 411\n",
      "Cost function =  1.218429012e+15\n",
      "Iteration = 414\n",
      "Cost function =  1.2182773598e+15\n",
      "Iteration = 417\n",
      "Cost function =  1.21812750133e+15\n",
      "Iteration = 420\n",
      "Cost function =  1.21797941537e+15\n",
      "Iteration = 423\n",
      "Cost function =  1.21783308098e+15\n",
      "Iteration = 426\n",
      "Cost function =  1.21768847742e+15\n",
      "Iteration = 429\n",
      "Cost function =  1.21754558422e+15\n",
      "Iteration = 432\n",
      "Cost function =  1.21740438116e+15\n",
      "Iteration = 435\n",
      "Cost function =  1.21726484824e+15\n",
      "Iteration = 438\n",
      "Cost function =  1.21712696571e+15\n",
      "Iteration = 441\n",
      "Cost function =  1.21699071404e+15\n",
      "Iteration = 444\n",
      "Cost function =  1.21685607396e+15\n",
      "Iteration = 447\n",
      "Cost function =  1.21672302639e+15\n",
      "Iteration = 450\n",
      "Cost function =  1.2165915525e+15\n",
      "Iteration = 453\n",
      "Cost function =  1.21646163368e+15\n",
      "Iteration = 456\n",
      "Cost function =  1.21633325154e+15\n",
      "Iteration = 459\n",
      "Cost function =  1.21620638789e+15\n",
      "Iteration = 462\n",
      "Cost function =  1.21608102478e+15\n",
      "Iteration = 465\n",
      "Cost function =  1.21595714445e+15\n",
      "Iteration = 468\n",
      "Cost function =  1.21583472938e+15\n",
      "Iteration = 471\n",
      "Cost function =  1.21571376223e+15\n",
      "Iteration = 474\n",
      "Cost function =  1.21559422587e+15\n",
      "Iteration = 477\n",
      "Cost function =  1.21547610338e+15\n",
      "Iteration = 480\n",
      "Cost function =  1.21535937803e+15\n",
      "Iteration = 483\n",
      "Cost function =  1.21524403331e+15\n",
      "Iteration = 486\n",
      "Cost function =  1.21513005288e+15\n",
      "Iteration = 489\n",
      "Cost function =  1.21501742061e+15\n",
      "Iteration = 492\n",
      "Cost function =  1.21490612054e+15\n",
      "Iteration = 495\n",
      "Cost function =  1.21479613693e+15\n",
      "Iteration = 498\n",
      "Cost function =  1.2146874542e+15\n",
      "Iteration = 501\n",
      "Cost function =  1.21458005696e+15\n",
      "Iteration = 504\n",
      "Cost function =  1.21447393001e+15\n",
      "Iteration = 507\n",
      "Cost function =  1.21436905832e+15\n",
      "Iteration = 510\n",
      "Cost function =  1.21426542705e+15\n",
      "Iteration = 513\n",
      "Cost function =  1.21416302153e+15\n",
      "Iteration = 516\n",
      "Cost function =  1.21406182725e+15\n",
      "Iteration = 519\n",
      "Cost function =  1.21396182989e+15\n",
      "Iteration = 522\n",
      "Cost function =  1.2138630153e+15\n",
      "Iteration = 525\n",
      "Cost function =  1.21376536948e+15\n",
      "Iteration = 528\n",
      "Cost function =  1.21366887861e+15\n",
      "Iteration = 531\n",
      "Cost function =  1.21357352903e+15\n",
      "Iteration = 534\n",
      "Cost function =  1.21347930724e+15\n",
      "Iteration = 537\n",
      "Cost function =  1.2133861999e+15\n",
      "Iteration = 540\n",
      "Cost function =  1.21329419383e+15\n",
      "Iteration = 543\n",
      "Cost function =  1.21320327601e+15\n",
      "Iteration = 546\n",
      "Cost function =  1.21311343355e+15\n",
      "Iteration = 549\n",
      "Cost function =  1.21302465374e+15\n",
      "Iteration = 552\n",
      "Cost function =  1.21293692402e+15\n",
      "Iteration = 555\n",
      "Cost function =  1.21285023196e+15\n",
      "Iteration = 558\n",
      "Cost function =  1.21276456529e+15\n",
      "Iteration = 561\n",
      "Cost function =  1.21267991188e+15\n",
      "Iteration = 564\n",
      "Cost function =  1.21259625975e+15\n",
      "Iteration = 567\n",
      "Cost function =  1.21251359704e+15\n",
      "Iteration = 570\n",
      "Cost function =  1.21243191207e+15\n",
      "Iteration = 573\n",
      "Cost function =  1.21235119327e+15\n",
      "Iteration = 576\n",
      "Cost function =  1.2122714292e+15\n",
      "Iteration = 579\n",
      "Cost function =  1.21219260857e+15\n",
      "Iteration = 582\n",
      "Cost function =  1.21211472024e+15\n",
      "Iteration = 585\n",
      "Cost function =  1.21203775316e+15\n",
      "Iteration = 588\n",
      "Cost function =  1.21196169644e+15\n",
      "Iteration = 591\n",
      "Cost function =  1.21188653932e+15\n",
      "Iteration = 594\n",
      "Cost function =  1.21181227115e+15\n",
      "Iteration = 597\n",
      "Cost function =  1.21173888142e+15\n",
      "Iteration = 600\n",
      "Cost function =  1.21166635974e+15\n",
      "Iteration = 603\n",
      "Cost function =  1.21159469585e+15\n",
      "Iteration = 606\n",
      "Cost function =  1.21152387959e+15\n",
      "Iteration = 609\n",
      "Cost function =  1.21145390094e+15\n",
      "Iteration = 612\n",
      "Cost function =  1.21138474999e+15\n",
      "Iteration = 615\n",
      "Cost function =  1.21131641696e+15\n",
      "Iteration = 618\n",
      "Cost function =  1.21124889216e+15\n",
      "Iteration = 621\n",
      "Cost function =  1.21118216605e+15\n",
      "Iteration = 624\n",
      "Cost function =  1.21111622917e+15\n",
      "Iteration = 627\n",
      "Cost function =  1.21105107218e+15\n",
      "Iteration = 630\n",
      "Cost function =  1.21098668587e+15\n",
      "Iteration = 633\n",
      "Cost function =  1.21092306111e+15\n",
      "Iteration = 636\n",
      "Cost function =  1.21086018891e+15\n",
      "Iteration = 639\n",
      "Cost function =  1.21079806035e+15\n",
      "Iteration = 642\n",
      "Cost function =  1.21073666665e+15\n",
      "Iteration = 645\n",
      "Cost function =  1.21067599911e+15\n",
      "Iteration = 648\n",
      "Cost function =  1.21061604914e+15\n",
      "Iteration = 651\n",
      "Cost function =  1.21055680825e+15\n",
      "Iteration = 654\n",
      "Cost function =  1.21049826806e+15\n",
      "Iteration = 657\n",
      "Cost function =  1.21044042028e+15\n",
      "Iteration = 660\n",
      "Cost function =  1.21038325672e+15\n",
      "Iteration = 663\n",
      "Cost function =  1.21032676929e+15\n",
      "Iteration = 666\n",
      "Cost function =  1.21027094999e+15\n",
      "Iteration = 669\n",
      "Cost function =  1.21021579091e+15\n",
      "Iteration = 672\n",
      "Cost function =  1.21016128425e+15\n",
      "Iteration = 675\n",
      "Cost function =  1.2101074223e+15\n",
      "Iteration = 678\n",
      "Cost function =  1.21005419742e+15\n",
      "Iteration = 681\n",
      "Cost function =  1.21000160208e+15\n",
      "Iteration = 684\n",
      "Cost function =  1.20994962883e+15\n",
      "Iteration = 687\n",
      "Cost function =  1.20989827032e+15\n",
      "Iteration = 690\n",
      "Cost function =  1.20984751928e+15\n",
      "Iteration = 693\n",
      "Cost function =  1.20979736851e+15\n",
      "Iteration = 696\n",
      "Cost function =  1.20974781093e+15\n",
      "Iteration = 699\n",
      "Cost function =  1.2096988395e+15\n",
      "Iteration = 702\n",
      "Cost function =  1.20965044731e+15\n",
      "Iteration = 705\n",
      "Cost function =  1.2096026275e+15\n",
      "Iteration = 708\n",
      "Cost function =  1.2095553733e+15\n",
      "Iteration = 711\n",
      "Cost function =  1.20950867802e+15\n",
      "Iteration = 714\n",
      "Cost function =  1.20946253504e+15\n",
      "Iteration = 717\n",
      "Cost function =  1.20941693785e+15\n",
      "Iteration = 720\n",
      "Cost function =  1.20937187997e+15\n",
      "Iteration = 723\n",
      "Cost function =  1.20932735503e+15\n",
      "Iteration = 726\n",
      "Cost function =  1.20928335673e+15\n",
      "Iteration = 729\n",
      "Cost function =  1.20923987884e+15\n",
      "Iteration = 732\n",
      "Cost function =  1.20919691521e+15\n",
      "Iteration = 735\n",
      "Cost function =  1.20915445974e+15\n",
      "Iteration = 738\n",
      "Cost function =  1.20911250643e+15\n",
      "Iteration = 741\n",
      "Cost function =  1.20907104935e+15\n",
      "Iteration = 744\n",
      "Cost function =  1.20903008261e+15\n",
      "Iteration = 747\n",
      "Cost function =  1.20898960043e+15\n",
      "Iteration = 750\n",
      "Cost function =  1.20894959707e+15\n",
      "Iteration = 753\n",
      "Cost function =  1.20891006686e+15\n",
      "Iteration = 756\n",
      "Cost function =  1.20887100422e+15\n",
      "Iteration = 759\n",
      "Cost function =  1.2088324036e+15\n",
      "Iteration = 762\n",
      "Cost function =  1.20879425955e+15\n",
      "Iteration = 765\n",
      "Cost function =  1.20875656667e+15\n",
      "Iteration = 768\n",
      "Cost function =  1.20871931961e+15\n",
      "Iteration = 771\n",
      "Cost function =  1.20868251311e+15\n",
      "Iteration = 774\n",
      "Cost function =  1.20864614195e+15\n",
      "Iteration = 777\n",
      "Cost function =  1.20861020099e+15\n",
      "Iteration = 780\n",
      "Cost function =  1.20857468513e+15\n",
      "Iteration = 783\n",
      "Cost function =  1.20853958936e+15\n",
      "Iteration = 786\n",
      "Cost function =  1.20850490869e+15\n",
      "Iteration = 789\n",
      "Cost function =  1.20847063822e+15\n",
      "Iteration = 792\n",
      "Cost function =  1.2084367731e+15\n",
      "Iteration = 795\n",
      "Cost function =  1.20840330854e+15\n",
      "Iteration = 798\n",
      "Cost function =  1.20837023979e+15\n",
      "Iteration = 801\n",
      "Cost function =  1.20833756218e+15\n",
      "Iteration = 804\n",
      "Cost function =  1.20830527107e+15\n",
      "Iteration = 807\n",
      "Cost function =  1.2082733619e+15\n",
      "Iteration = 810\n",
      "Cost function =  1.20824183015e+15\n",
      "Iteration = 813\n",
      "Cost function =  1.20821067135e+15\n",
      "Iteration = 816\n",
      "Cost function =  1.2081798811e+15\n",
      "Iteration = 819\n",
      "Cost function =  1.20814945503e+15\n",
      "Iteration = 822\n",
      "Cost function =  1.20811938884e+15\n",
      "Iteration = 825\n",
      "Cost function =  1.20808967827e+15\n",
      "Iteration = 828\n",
      "Cost function =  1.20806031911e+15\n",
      "Iteration = 831\n",
      "Cost function =  1.20803130721e+15\n",
      "Iteration = 834\n",
      "Cost function =  1.20800263846e+15\n",
      "Iteration = 837\n",
      "Cost function =  1.2079743088e+15\n",
      "Iteration = 840\n",
      "Cost function =  1.20794631422e+15\n",
      "Iteration = 843\n",
      "Cost function =  1.20791865076e+15\n",
      "Iteration = 846\n",
      "Cost function =  1.2078913145e+15\n",
      "Iteration = 849\n",
      "Cost function =  1.20786430157e+15\n",
      "Iteration = 852\n",
      "Cost function =  1.20783760815e+15\n",
      "Iteration = 855\n",
      "Cost function =  1.20781123046e+15\n",
      "Iteration = 858\n",
      "Cost function =  1.20778516475e+15\n",
      "Iteration = 861\n",
      "Cost function =  1.20775940735e+15\n",
      "Iteration = 864\n",
      "Cost function =  1.20773395461e+15\n",
      "Iteration = 867\n",
      "Cost function =  1.20770880292e+15\n",
      "Iteration = 870\n",
      "Cost function =  1.20768394872e+15\n",
      "Iteration = 873\n",
      "Cost function =  1.20765938849e+15\n",
      "Iteration = 876\n",
      "Cost function =  1.20763511876e+15\n",
      "Iteration = 879\n",
      "Cost function =  1.20761113609e+15\n",
      "Iteration = 882\n",
      "Cost function =  1.20758743708e+15\n",
      "Iteration = 885\n",
      "Cost function =  1.20756401838e+15\n",
      "Iteration = 888\n",
      "Cost function =  1.20754087668e+15\n",
      "Iteration = 891\n",
      "Cost function =  1.20751800869e+15\n",
      "Iteration = 894\n",
      "Cost function =  1.20749541119e+15\n",
      "Iteration = 897\n",
      "Cost function =  1.20747308096e+15\n",
      "Iteration = 900\n",
      "Cost function =  1.20745101486e+15\n",
      "Iteration = 903\n",
      "Cost function =  1.20742920975e+15\n",
      "Iteration = 906\n",
      "Cost function =  1.20740766255e+15\n",
      "Iteration = 909\n",
      "Cost function =  1.2073863702e+15\n",
      "Iteration = 912\n",
      "Cost function =  1.2073653297e+15\n",
      "Iteration = 915\n",
      "Cost function =  1.20734453807e+15\n",
      "Iteration = 918\n",
      "Cost function =  1.20732399235e+15\n",
      "Iteration = 921\n",
      "Cost function =  1.20730368965e+15\n",
      "Iteration = 924\n",
      "Cost function =  1.20728362709e+15\n",
      "Iteration = 927\n",
      "Cost function =  1.20726380182e+15\n",
      "Iteration = 930\n",
      "Cost function =  1.20724421104e+15\n",
      "Iteration = 933\n",
      "Cost function =  1.20722485199e+15\n",
      "Iteration = 936\n",
      "Cost function =  1.2072057219e+15\n",
      "Iteration = 939\n",
      "Cost function =  1.20718681809e+15\n",
      "Iteration = 942\n",
      "Cost function =  1.20716813787e+15\n",
      "Iteration = 945\n",
      "Cost function =  1.2071496786e+15\n",
      "Iteration = 948\n",
      "Cost function =  1.20713143766e+15\n",
      "Iteration = 951\n",
      "Cost function =  1.20711341247e+15\n",
      "Iteration = 954\n",
      "Cost function =  1.20709560048e+15\n",
      "Iteration = 957\n",
      "Cost function =  1.20707799917e+15\n",
      "Iteration = 960\n",
      "Cost function =  1.20706060604e+15\n",
      "Iteration = 963\n",
      "Cost function =  1.20704341864e+15\n",
      "Iteration = 966\n",
      "Cost function =  1.20702643453e+15\n",
      "Iteration = 969\n",
      "Cost function =  1.20700965131e+15\n",
      "Iteration = 972\n",
      "Cost function =  1.20699306659e+15\n",
      "Iteration = 975\n",
      "Cost function =  1.20697667804e+15\n",
      "Iteration = 978\n",
      "Cost function =  1.20696048333e+15\n",
      "Iteration = 981\n",
      "Cost function =  1.20694448016e+15\n",
      "Iteration = 984\n",
      "Cost function =  1.20692866628e+15\n",
      "Iteration = 987\n",
      "Cost function =  1.20691303945e+15\n",
      "Iteration = 990\n",
      "Cost function =  1.20689759745e+15\n",
      "Iteration = 993\n",
      "Cost function =  1.20688233809e+15\n",
      "Iteration = 996\n",
      "Cost function =  1.20686725922e+15\n",
      "Iteration = 999\n",
      "Cost function =  1.2068523587e+15\n",
      "Done with gradient descent at iteration  1002\n",
      "Learned weights =  [ -1.03866427e-01   2.29520260e+02   3.71109423e+01]\n"
     ]
    }
   ],
   "source": [
    "double_weights_0_penalty = ridge_regression_gradient_descent(double_feature_matrix, doutput, \n",
    "                                                             initial_weights, step_size, \n",
    "                                                             l2_penalty,\n",
    "                                                              max_iterations)\n",
    "\n"
   ]
  },
  {
   "cell_type": "code",
   "execution_count": 27,
   "metadata": {
    "collapsed": false
   },
   "outputs": [
    {
     "data": {
      "text/plain": [
       "array([ -1.03866427e-01,   2.29520260e+02,   3.71109423e+01])"
      ]
     },
     "execution_count": 27,
     "metadata": {},
     "output_type": "execute_result"
    }
   ],
   "source": [
    "double_weights_0_penalty  "
   ]
  },
  {
   "cell_type": "markdown",
   "metadata": {},
   "source": [
    "Next, let's consider high regularization.  Set the `l2_penalty` to `1e11` and run your ridge regression algorithm to learn the weights of your model.  Call your weights:\n",
    "\n",
    "`simple_weights_high_penalty`\n",
    "\n",
    "we'll use them later."
   ]
  },
  {
   "cell_type": "code",
   "execution_count": null,
   "metadata": {
    "collapsed": false
   },
   "outputs": [],
   "source": [
    "simple_weights_0_penalty"
   ]
  },
  {
   "cell_type": "code",
   "execution_count": null,
   "metadata": {
    "collapsed": false
   },
   "outputs": [],
   "source": [
    "double_weights_0_penalty\n"
   ]
  },
  {
   "cell_type": "code",
   "execution_count": null,
   "metadata": {
    "collapsed": false
   },
   "outputs": [],
   "source": []
  },
  {
   "cell_type": "code",
   "execution_count": null,
   "metadata": {
    "collapsed": false
   },
   "outputs": [],
   "source": [
    "l2_penalty = 1e11\n",
    "simple_weights_high_penalty = ridge_regression_gradient_descent(simple_feature_matrix, output, \n",
    "                                                             initial_weights0, step_size, \n",
    "                                                             l2_penalty,\n",
    "                                                              max_iterations)\n",
    "double_weights_high_penalty = ridge_regression_gradient_descent(double_feature_matrix, doutput, \n",
    "                                                             initial_weights, step_size, \n",
    "                                                             l2_penalty,\n",
    "                                                              max_iterations)"
   ]
  },
  {
   "cell_type": "code",
   "execution_count": null,
   "metadata": {
    "collapsed": false
   },
   "outputs": [],
   "source": [
    "import matplotlib.pyplot as plt\n",
    "%matplotlib inline\n",
    "\n",
    "plt.grid()\n",
    "plt.plot(simple_feature_matrix,doutput,'k.',\n",
    "         simple_feature_matrix,predict_output(simple_feature_matrix, simple_weights_0_penalty),'b-',\n",
    "        simple_feature_matrix,predict_output(simple_feature_matrix, simple_weights_high_penalty),'r-')"
   ]
  },
  {
   "cell_type": "markdown",
   "metadata": {},
   "source": [
    "This code will plot the two learned models.  (The blue line is for the model with no regularization and the red line is for the one with high regularization.)"
   ]
  },
  {
   "cell_type": "code",
   "execution_count": null,
   "metadata": {
    "collapsed": false,
    "scrolled": true
   },
   "outputs": [],
   "source": [
    "\n",
    "plt.plot(double_feature_matrix,doutput,'k.',\n",
    "         double_feature_matrix,predict_output(double_feature_matrix, double_weights_0_penalty),'b-',\n",
    "        double_feature_matrix,predict_output(double_feature_matrix, double_weights_high_penalty),'r-')"
   ]
  },
  {
   "cell_type": "markdown",
   "metadata": {},
   "source": [
    "Compute the RSS on the TEST data for the following three sets of weights:\n",
    "1. The initial weights (all zeros)\n",
    "2. The weights learned with no regularization\n",
    "3. The weights learned with high regularization\n",
    "\n",
    "Which weights perform best?"
   ]
  },
  {
   "cell_type": "code",
   "execution_count": null,
   "metadata": {
    "collapsed": false,
    "scrolled": true
   },
   "outputs": [],
   "source": [
    " (double_feature_matrix, doutput) = get_numpy_data(train_data, double_features, my_output)\n",
    "(double_test_feature_matrix, test_doutput) = get_numpy_data(test_data, double_features, my_output)"
   ]
  },
  {
   "cell_type": "code",
   "execution_count": null,
   "metadata": {
    "collapsed": false
   },
   "outputs": [],
   "source": [
    "initial_weights = np.array([0., 0., 0.])\n",
    "step_size = 1e-12\n",
    "max_iterations=1000\n"
   ]
  },
  {
   "cell_type": "code",
   "execution_count": null,
   "metadata": {
    "collapsed": true
   },
   "outputs": [],
   "source": [
    "l2_penalty = 0.0"
   ]
  },
  {
   "cell_type": "code",
   "execution_count": null,
   "metadata": {
    "collapsed": false
   },
   "outputs": [],
   "source": [
    "double_weights_0_penalty = ridge_regression_gradient_descent(double_feature_matrix, doutput, \n",
    "                                                             initial_weights, step_size, \n",
    "                                                             l2_penalty,\n",
    "                                                              max_iterations)"
   ]
  },
  {
   "cell_type": "code",
   "execution_count": null,
   "metadata": {
    "collapsed": false
   },
   "outputs": [],
   "source": [
    "double_weights_0_penalty"
   ]
  },
  {
   "cell_type": "code",
   "execution_count": null,
   "metadata": {
    "collapsed": false,
    "scrolled": true
   },
   "outputs": [],
   "source": [
    "initial_weights = np.array([0., 0.])\n",
    "step_size = 1e-12\n",
    "max_iterations=1000\n",
    "simple_test_feature_matrix, test_output\n",
    "p0 = predict_output(simple_test_feature_matrix, initial_weights)\n",
    "p1 =  predict_output(simple_test_feature_matrix, simple_weights_0_penalty)\n",
    "p2 =  predict_output(simple_test_feature_matrix, simple_weights_high_penalty)\n",
    "RSS0 = ((test_output - p0)**2).sum()\n",
    "RSS1 = ((test_output - p1)**2).sum()\n",
    "RSS2 = ((test_output - p2)**2).sum()\n",
    "\n",
    "        "
   ]
  },
  {
   "cell_type": "code",
   "execution_count": null,
   "metadata": {
    "collapsed": false
   },
   "outputs": [],
   "source": [
    "double_weights_0_penalty"
   ]
  },
  {
   "cell_type": "code",
   "execution_count": null,
   "metadata": {
    "collapsed": false
   },
   "outputs": [],
   "source": [
    "print 'RSS0 ', RSS0, 'RSS1', RSS1, 'RSS2', RSS2"
   ]
  },
  {
   "cell_type": "code",
   "execution_count": null,
   "metadata": {
    "collapsed": false
   },
   "outputs": [],
   "source": [
    "simple_weights_high_penalty\n",
    "#simple_weights_0_penalty"
   ]
  },
  {
   "cell_type": "markdown",
   "metadata": {
    "collapsed": false
   },
   "source": [
    "***QUIZ QUESTIONS***\n",
    "1. What is the value of the coefficient for `sqft_living` that you learned with no regularization, rounded to 1 decimal place?  What about the one with high regularization?\n",
    "2. Comparing the lines you fit with the with no regularization versus high regularization, which one is steeper?\n",
    "3. What are the RSS on the test data for each of the set of weights above (initial, no regularization, high regularization)? \n"
   ]
  },
  {
   "cell_type": "markdown",
   "metadata": {},
   "source": [
    "# Running a multiple regression with L2 penalty"
   ]
  },
  {
   "cell_type": "markdown",
   "metadata": {},
   "source": [
    "Let us now consider a model with 2 features: `['sqft_living', 'sqft_living15']`."
   ]
  },
  {
   "cell_type": "markdown",
   "metadata": {},
   "source": [
    "First, create Numpy versions of your training and test data with these two features. "
   ]
  },
  {
   "cell_type": "code",
   "execution_count": null,
   "metadata": {
    "collapsed": true
   },
   "outputs": [],
   "source": [
    "model_features = ['sqft_living', 'sqft_living15'] # sqft_living15 is the average squarefeet for the nearest 15 neighbors. \n",
    "my_output = 'price'\n",
    "(feature_matrix, output) = get_numpy_data(train_data, model_features, my_output)\n",
    "(test_feature_matrix, test_output) = get_numpy_data(test_data, model_features, my_output)"
   ]
  },
  {
   "cell_type": "markdown",
   "metadata": {},
   "source": [
    "We need to re-inialize the weights, since we have one extra parameter. Let us also set the step size and maximum number of iterations."
   ]
  },
  {
   "cell_type": "code",
   "execution_count": null,
   "metadata": {
    "collapsed": true
   },
   "outputs": [],
   "source": [
    "initial_weights = np.array([0.0,0.0,0.0])\n",
    "step_size = 1e-12\n",
    "max_iterations = 1000"
   ]
  },
  {
   "cell_type": "code",
   "execution_count": null,
   "metadata": {
    "collapsed": true
   },
   "outputs": [],
   "source": []
  },
  {
   "cell_type": "code",
   "execution_count": null,
   "metadata": {
    "collapsed": false
   },
   "outputs": [],
   "source": [
    " "
   ]
  },
  {
   "cell_type": "markdown",
   "metadata": {},
   "source": [
    "First, let's consider no regularization.  Set the `l2_penalty` to `0.0` and run your ridge regression algorithm to learn the weights of your model.  Call your weights:\n",
    "\n",
    "`multiple_weights_0_penalty`"
   ]
  },
  {
   "cell_type": "code",
   "execution_count": null,
   "metadata": {
    "collapsed": false
   },
   "outputs": [],
   "source": [
    "\n",
    "#double_weights_high_penalty\n",
    "double_weights_0_penalty\n",
    "#simple_weights_high_penalty"
   ]
  },
  {
   "cell_type": "markdown",
   "metadata": {},
   "source": [
    "Next, let's consider high regularization.  Set the `l2_penalty` to `1e11` and run your ridge regression algorithm to learn the weights of your model.  Call your weights:\n",
    "\n",
    "`multiple_weights_high_penalty`"
   ]
  },
  {
   "cell_type": "code",
   "execution_count": null,
   "metadata": {
    "collapsed": false
   },
   "outputs": [],
   "source": [
    "p0 = predict_output(double_test_feature_matrix, initial_weights)\n",
    "p1 =  predict_output(double_test_feature_matrix, double_weights_0_penalty)\n",
    "p2 =  predict_output(double_test_feature_matrix, double_weights_high_penalty)"
   ]
  },
  {
   "cell_type": "markdown",
   "metadata": {},
   "source": [
    "Compute the RSS on the TEST data for the following three sets of weights:\n",
    "1. The initial weights (all zeros)\n",
    "2. The weights learned with no regularization\n",
    "3. The weights learned with high regularization\n",
    "\n",
    "Which weights perform best?"
   ]
  },
  {
   "cell_type": "code",
   "execution_count": null,
   "metadata": {
    "collapsed": true
   },
   "outputs": [],
   "source": [
    "RSS0 = ((test_output - p0)**2).sum()\n",
    "RSS1 = ((test_output - p1)**2).sum()\n",
    "RSS2 = ((test_output - p2)**2).sum()"
   ]
  },
  {
   "cell_type": "code",
   "execution_count": null,
   "metadata": {
    "collapsed": false
   },
   "outputs": [],
   "source": [
    "print 'RSS0', RSS0, 'RSS1', RSS1, 'RSS2', RSS2"
   ]
  },
  {
   "cell_type": "code",
   "execution_count": null,
   "metadata": {
    "collapsed": false
   },
   "outputs": [],
   "source": [
    "p2[0]"
   ]
  },
  {
   "cell_type": "code",
   "execution_count": null,
   "metadata": {
    "collapsed": false
   },
   "outputs": [],
   "source": [
    "p1[0]"
   ]
  },
  {
   "cell_type": "code",
   "execution_count": null,
   "metadata": {
    "collapsed": false
   },
   "outputs": [],
   "source": [
    "vrai = test_data['price'][0]"
   ]
  },
  {
   "cell_type": "code",
   "execution_count": null,
   "metadata": {
    "collapsed": false
   },
   "outputs": [],
   "source": [
    "p1[0] - vrai"
   ]
  },
  {
   "cell_type": "markdown",
   "metadata": {},
   "source": [
    "Predict the house price for the 1st house in the test set using the no regularization and high regularization models. (Remember that python starts indexing from 0.) How far is the prediction from the actual price?  Which weights perform best for the 1st house?"
   ]
  },
  {
   "cell_type": "code",
   "execution_count": null,
   "metadata": {
    "collapsed": false
   },
   "outputs": [],
   "source": [
    "p2[0] - vrai"
   ]
  },
  {
   "cell_type": "code",
   "execution_count": null,
   "metadata": {
    "collapsed": false
   },
   "outputs": [],
   "source": [
    "vrai"
   ]
  },
  {
   "cell_type": "code",
   "execution_count": null,
   "metadata": {
    "collapsed": false
   },
   "outputs": [],
   "source": [
    "double_weights_0_penalty"
   ]
  },
  {
   "cell_type": "code",
   "execution_count": null,
   "metadata": {
    "collapsed": false
   },
   "outputs": [],
   "source": []
  },
  {
   "cell_type": "markdown",
   "metadata": {
    "collapsed": true
   },
   "source": [
    "***QUIZ QUESTIONS***\n",
    "1. What is the value of the coefficient for `sqft_living` that you learned with no regularization, rounded to 1 decimal place?  What about the one with high regularization?\n",
    "2. What are the RSS on the test data for each of the set of weights above (initial, no regularization, high regularization)? \n",
    "3. We make prediction for the first house in the test set using two sets of weights (no regularization vs high regularization). Which weights make better prediction <u>for that particular house</u>?"
   ]
  },
  {
   "cell_type": "code",
   "execution_count": null,
   "metadata": {
    "collapsed": true
   },
   "outputs": [],
   "source": []
  },
  {
   "cell_type": "code",
   "execution_count": null,
   "metadata": {
    "collapsed": true
   },
   "outputs": [],
   "source": []
  },
  {
   "cell_type": "code",
   "execution_count": null,
   "metadata": {
    "collapsed": true
   },
   "outputs": [],
   "source": []
  }
 ],
 "metadata": {
  "kernelspec": {
   "display_name": "Python 2",
   "language": "python",
   "name": "python2"
  },
  "language_info": {
   "codemirror_mode": {
    "name": "ipython",
    "version": 2
   },
   "file_extension": ".py",
   "mimetype": "text/x-python",
   "name": "python",
   "nbconvert_exporter": "python",
   "pygments_lexer": "ipython2",
   "version": "2.7.11"
  }
 },
 "nbformat": 4,
 "nbformat_minor": 0
}
